{
  "nbformat": 4,
  "nbformat_minor": 0,
  "metadata": {
    "kernelspec": {
      "name": "python3",
      "display_name": "Python 3"
    },
    "colab": {
      "name": "12_text.ipynb",
      "provenance": [],
      "toc_visible": true
    },
    "accelerator": "GPU"
  },
  "cells": [
    {
      "cell_type": "markdown",
      "metadata": {
        "id": "mRvjcZo4twT5",
        "colab_type": "text"
      },
      "source": [
        "# Preprocess text"
      ]
    },
    {
      "cell_type": "code",
      "metadata": {
        "id": "suuBUJiMtwT9",
        "colab_type": "code",
        "colab": {}
      },
      "source": [
        "%load_ext autoreload\n",
        "%autoreload 2\n",
        "\n",
        "%matplotlib inline"
      ],
      "execution_count": 0,
      "outputs": []
    },
    {
      "cell_type": "code",
      "metadata": {
        "id": "VdvoZlCLwXwO",
        "colab_type": "code",
        "colab": {}
      },
      "source": [
        "#!sh colab_setup.sh"
      ],
      "execution_count": 0,
      "outputs": []
    },
    {
      "cell_type": "code",
      "metadata": {
        "id": "4AGnUa74twUJ",
        "colab_type": "code",
        "colab": {}
      },
      "source": [
        "#export\n",
        "from exp.nb_11a import *"
      ],
      "execution_count": 0,
      "outputs": []
    },
    {
      "cell_type": "markdown",
      "metadata": {
        "id": "UwJYnf3JtwUO",
        "colab_type": "text"
      },
      "source": [
        "## Data"
      ]
    },
    {
      "cell_type": "markdown",
      "metadata": {
        "id": "UM6djdqbtwUR",
        "colab_type": "text"
      },
      "source": [
        "We will use the IMDB dataset that consists of 50,000 labeled reviews of movies (positive or negative) and 50,000 unlabelled ones."
      ]
    },
    {
      "cell_type": "markdown",
      "metadata": {
        "id": "GgzsVjW7twUU",
        "colab_type": "text"
      },
      "source": [
        "[Jump_to lesson 12 video](https://course.fast.ai/videos/?lesson=12&t=4964)"
      ]
    },
    {
      "cell_type": "code",
      "metadata": {
        "id": "WfOohV6OtwUW",
        "colab_type": "code",
        "colab": {}
      },
      "source": [
        "path = datasets.untar_data(datasets.URLs.IMDB)"
      ],
      "execution_count": 0,
      "outputs": []
    },
    {
      "cell_type": "code",
      "metadata": {
        "id": "N9jtGBV8twUb",
        "colab_type": "code",
        "colab": {
          "base_uri": "https://localhost:8080/",
          "height": 181
        },
        "outputId": "39db0ad7-e37a-43b3-b9bd-dd2477dca88a"
      },
      "source": [
        "path.ls()"
      ],
      "execution_count": 6,
      "outputs": [
        {
          "output_type": "execute_result",
          "data": {
            "text/plain": [
              "[PosixPath('/content/data/imdb/unsup'),\n",
              " PosixPath('/content/data/imdb/imdb.vocab'),\n",
              " PosixPath('/content/data/imdb/tmp_lm'),\n",
              " PosixPath('/content/data/imdb/test'),\n",
              " PosixPath('/content/data/imdb/ll_clas.pkl'),\n",
              " PosixPath('/content/data/imdb/README'),\n",
              " PosixPath('/content/data/imdb/tmp_clas'),\n",
              " PosixPath('/content/data/imdb/ld.pkl'),\n",
              " PosixPath('/content/data/imdb/train')]"
            ]
          },
          "metadata": {
            "tags": []
          },
          "execution_count": 6
        }
      ]
    },
    {
      "cell_type": "markdown",
      "metadata": {
        "id": "G3UPr7cBtwUh",
        "colab_type": "text"
      },
      "source": [
        "We define a subclass of `ItemList` that will read the texts in the corresponding filenames."
      ]
    },
    {
      "cell_type": "code",
      "metadata": {
        "id": "wEwQvVKXtwUk",
        "colab_type": "code",
        "colab": {}
      },
      "source": [
        "#export\n",
        "def read_file(fn): \n",
        "    with open(fn, 'r', encoding = 'utf8') as f: return f.read()\n",
        "    \n",
        "class TextList(ItemList):\n",
        "    @classmethod\n",
        "    def from_files(cls, path, extensions='.txt', recurse=True, include=None, **kwargs):\n",
        "        return cls(get_files(path, extensions, recurse=recurse, include=include), path, **kwargs)\n",
        "    \n",
        "    def get(self, i):\n",
        "        if isinstance(i, Path): return read_file(i)\n",
        "        return i"
      ],
      "execution_count": 0,
      "outputs": []
    },
    {
      "cell_type": "markdown",
      "metadata": {
        "id": "l81yD__rtwUo",
        "colab_type": "text"
      },
      "source": [
        "Just in case there are some text log files, we restrict the ones we take to the training, test, and unsupervised folders."
      ]
    },
    {
      "cell_type": "code",
      "metadata": {
        "id": "NaMkZySRtwUr",
        "colab_type": "code",
        "colab": {}
      },
      "source": [
        "il = TextList.from_files(path, include=['train', 'test', 'unsup'])"
      ],
      "execution_count": 0,
      "outputs": []
    },
    {
      "cell_type": "markdown",
      "metadata": {
        "id": "P4wY_KkKtwUx",
        "colab_type": "text"
      },
      "source": [
        "We should expect a total of 100,000 texts."
      ]
    },
    {
      "cell_type": "code",
      "metadata": {
        "id": "raq_ul5CtwUy",
        "colab_type": "code",
        "colab": {
          "base_uri": "https://localhost:8080/",
          "height": 35
        },
        "outputId": "c5020624-3fb9-492b-ddeb-02b145be62a2"
      },
      "source": [
        "len(il.items)"
      ],
      "execution_count": 9,
      "outputs": [
        {
          "output_type": "execute_result",
          "data": {
            "text/plain": [
              "100000"
            ]
          },
          "metadata": {
            "tags": []
          },
          "execution_count": 9
        }
      ]
    },
    {
      "cell_type": "markdown",
      "metadata": {
        "id": "YNjuuL0WtwU4",
        "colab_type": "text"
      },
      "source": [
        "Here is the first one as an example."
      ]
    },
    {
      "cell_type": "code",
      "metadata": {
        "id": "U5qeI1xWtwU6",
        "colab_type": "code",
        "colab": {
          "base_uri": "https://localhost:8080/",
          "height": 55
        },
        "outputId": "c92eeb28-e894-4633-88fb-db1b767c8780"
      },
      "source": [
        "txt = il[0]\n",
        "txt"
      ],
      "execution_count": 10,
      "outputs": [
        {
          "output_type": "execute_result",
          "data": {
            "text/plain": [
              "\"I can't wait for season 3! Is there going to be a third season? I watched both seasons back to back and loved it. This is much better than Sex in the City. This show is worth watching and leaves you wanting more. I love that it does not just focus on their careers, they have a life outside of the job that you can believe. The dialog is better than good...it's great! The fashion is good and I really like all the characters. The story line is better than Sex in the City because the character are much more realistic. There must be a season 3 in production. I hope the network is not suited up and stupid were they cancel the show because that would be a waste.\""
            ]
          },
          "metadata": {
            "tags": []
          },
          "execution_count": 10
        }
      ]
    },
    {
      "cell_type": "markdown",
      "metadata": {
        "id": "InC_iXLftwU_",
        "colab_type": "text"
      },
      "source": [
        "For text classification, we will split by the grand parent folder as before, but for language modeling, we take all the texts and just put 10% aside."
      ]
    },
    {
      "cell_type": "code",
      "metadata": {
        "id": "0xssgvketwVA",
        "colab_type": "code",
        "colab": {}
      },
      "source": [
        "sd = SplitData.split_by_func(il, partial(random_splitter, p_valid=0.1))"
      ],
      "execution_count": 0,
      "outputs": []
    },
    {
      "cell_type": "code",
      "metadata": {
        "id": "DJpoKTiftwVF",
        "colab_type": "code",
        "colab": {
          "base_uri": "https://localhost:8080/",
          "height": 164
        },
        "outputId": "94891b04-0711-4c11-ea49-858678a40213"
      },
      "source": [
        "sd"
      ],
      "execution_count": 12,
      "outputs": [
        {
          "output_type": "execute_result",
          "data": {
            "text/plain": [
              "SplitData\n",
              "Train: TextList (90004 items)\n",
              "[PosixPath('/content/data/imdb/unsup/8841_0.txt'), PosixPath('/content/data/imdb/unsup/32753_0.txt'), PosixPath('/content/data/imdb/unsup/37149_0.txt'), PosixPath('/content/data/imdb/unsup/33875_0.txt'), PosixPath('/content/data/imdb/unsup/36896_0.txt'), PosixPath('/content/data/imdb/unsup/3833_0.txt'), PosixPath('/content/data/imdb/unsup/46947_0.txt'), PosixPath('/content/data/imdb/unsup/1586_0.txt'), PosixPath('/content/data/imdb/unsup/31395_0.txt'), PosixPath('/content/data/imdb/unsup/13375_0.txt')...]\n",
              "Path: /content/data/imdb\n",
              "Valid: TextList (9996 items)\n",
              "[PosixPath('/content/data/imdb/unsup/14334_0.txt'), PosixPath('/content/data/imdb/unsup/48978_0.txt'), PosixPath('/content/data/imdb/unsup/44303_0.txt'), PosixPath('/content/data/imdb/unsup/46627_0.txt'), PosixPath('/content/data/imdb/unsup/38463_0.txt'), PosixPath('/content/data/imdb/unsup/42162_0.txt'), PosixPath('/content/data/imdb/unsup/34917_0.txt'), PosixPath('/content/data/imdb/unsup/26190_0.txt'), PosixPath('/content/data/imdb/unsup/29068_0.txt'), PosixPath('/content/data/imdb/unsup/14875_0.txt')...]\n",
              "Path: /content/data/imdb"
            ]
          },
          "metadata": {
            "tags": []
          },
          "execution_count": 12
        }
      ]
    },
    {
      "cell_type": "markdown",
      "metadata": {
        "id": "neBjiLt0twVK",
        "colab_type": "text"
      },
      "source": [
        "## Tokenizing"
      ]
    },
    {
      "cell_type": "markdown",
      "metadata": {
        "id": "ZYJwZz1ltwVL",
        "colab_type": "text"
      },
      "source": [
        "We need to tokenize the dataset first, which is splitting a sentence in individual tokens. Those tokens are the basic words or punctuation signs with a few tweaks: don't for instance is split between do and n't. We will use a processor for this, in conjunction with the [spacy library](https://spacy.io/)."
      ]
    },
    {
      "cell_type": "markdown",
      "metadata": {
        "id": "6RM48lX7twVN",
        "colab_type": "text"
      },
      "source": [
        "[Jump_to lesson 12 video](https://course.fast.ai/videos/?lesson=12&t=5070)"
      ]
    },
    {
      "cell_type": "code",
      "metadata": {
        "id": "QygI9tgJtwVO",
        "colab_type": "code",
        "colab": {}
      },
      "source": [
        "#export\n",
        "import spacy,html"
      ],
      "execution_count": 0,
      "outputs": []
    },
    {
      "cell_type": "markdown",
      "metadata": {
        "id": "OdpLpsEltwVS",
        "colab_type": "text"
      },
      "source": [
        "Before even tokenizeing, we will apply a bit of preprocessing on the texts to clean them up (we saw the one up there had some HTML code). These rules are applied before we split the sentences in tokens."
      ]
    },
    {
      "cell_type": "code",
      "metadata": {
        "id": "ZlD9xVimtwVT",
        "colab_type": "code",
        "colab": {}
      },
      "source": [
        "#export\n",
        "#special tokens\n",
        "UNK, PAD, BOS, EOS, TK_REP, TK_WREP, TK_UP, TK_MAJ = \"xxunk xxpad xxbos xxeos xxrep xxwrep xxup xxmaj\".split()\n",
        "\n",
        "def sub_br(t):\n",
        "    \"Replaces the <br /> by \\n\"\n",
        "    re_br = re.compile(r'<\\s*br\\s*/?>', re.IGNORECASE)\n",
        "    return re_br.sub(\"\\n\", t)\n",
        "\n",
        "def spec_add_spaces(t):\n",
        "    \"Add spaces around / and #\"\n",
        "    return re.sub(r'([/#])', r' \\1 ', t)\n",
        "\n",
        "def rm_useless_spaces(t):\n",
        "    \"Remove multiple spaces\"\n",
        "    return re.sub(' {2,}', ' ', t)\n",
        "\n",
        "def replace_rep(t):\n",
        "    \"Replace repetitions at the character level: cccc -> TK_REP 4 c\"\n",
        "    def _replace_rep(m:Collection[str]) -> str:\n",
        "        c,cc = m.groups()\n",
        "        return f' {TK_REP} {len(cc)+1} {c} '\n",
        "    re_rep = re.compile(r'(\\S)(\\1{3,})')\n",
        "    return re_rep.sub(_replace_rep, t)\n",
        "    \n",
        "def replace_wrep(t):\n",
        "    \"Replace word repetitions: word word word -> TK_WREP 3 word\"\n",
        "    def _replace_wrep(m:Collection[str]) -> str:\n",
        "        c,cc = m.groups()\n",
        "        return f' {TK_WREP} {len(cc.split())+1} {c} '\n",
        "    re_wrep = re.compile(r'(\\b\\w+\\W+)(\\1{3,})')\n",
        "    return re_wrep.sub(_replace_wrep, t)\n",
        "\n",
        "def fixup_text(x):\n",
        "    \"Various messy things we've seen in documents\"\n",
        "    re1 = re.compile(r'  +')\n",
        "    x = x.replace('#39;', \"'\").replace('amp;', '&').replace('#146;', \"'\").replace(\n",
        "        'nbsp;', ' ').replace('#36;', '$').replace('\\\\n', \"\\n\").replace('quot;', \"'\").replace(\n",
        "        '<br />', \"\\n\").replace('\\\\\"', '\"').replace('<unk>',UNK).replace(' @.@ ','.').replace(\n",
        "        ' @-@ ','-').replace('\\\\', ' \\\\ ')\n",
        "    return re1.sub(' ', html.unescape(x))\n",
        "    \n",
        "default_pre_rules = [fixup_text, replace_rep, replace_wrep, spec_add_spaces, rm_useless_spaces, sub_br]\n",
        "default_spec_tok = [UNK, PAD, BOS, EOS, TK_REP, TK_WREP, TK_UP, TK_MAJ]"
      ],
      "execution_count": 0,
      "outputs": []
    },
    {
      "cell_type": "code",
      "metadata": {
        "id": "Hl7m4YWMtwVZ",
        "colab_type": "code",
        "colab": {
          "base_uri": "https://localhost:8080/",
          "height": 35
        },
        "outputId": "1b629dab-e768-4fdc-9782-60ac684db3aa"
      },
      "source": [
        "replace_rep('cccc')"
      ],
      "execution_count": 15,
      "outputs": [
        {
          "output_type": "execute_result",
          "data": {
            "text/plain": [
              "' xxrep 4 c '"
            ]
          },
          "metadata": {
            "tags": []
          },
          "execution_count": 15
        }
      ]
    },
    {
      "cell_type": "code",
      "metadata": {
        "id": "4sURF5zhtwVe",
        "colab_type": "code",
        "colab": {
          "base_uri": "https://localhost:8080/",
          "height": 35
        },
        "outputId": "d84611a5-26c3-4895-ec49-9b736922b208"
      },
      "source": [
        "replace_wrep('word word word word word ')"
      ],
      "execution_count": 16,
      "outputs": [
        {
          "output_type": "execute_result",
          "data": {
            "text/plain": [
              "' xxwrep 5 word  '"
            ]
          },
          "metadata": {
            "tags": []
          },
          "execution_count": 16
        }
      ]
    },
    {
      "cell_type": "markdown",
      "metadata": {
        "id": "AxCZS6b7twVh",
        "colab_type": "text"
      },
      "source": [
        "These rules are applies after the tokenization on the list of tokens."
      ]
    },
    {
      "cell_type": "code",
      "metadata": {
        "id": "hoTUzKh9twVk",
        "colab_type": "code",
        "colab": {}
      },
      "source": [
        "#export\n",
        "def replace_all_caps(x):\n",
        "    \"Replace tokens in ALL CAPS by their lower version and add `TK_UP` before.\"\n",
        "    res = []\n",
        "    for t in x:\n",
        "        if t.isupper() and len(t) > 1: res.append(TK_UP); res.append(t.lower())\n",
        "        else: res.append(t)\n",
        "    return res\n",
        "\n",
        "def deal_caps(x):\n",
        "    \"Replace all Capitalized tokens in by their lower version and add `TK_MAJ` before.\"\n",
        "    res = []\n",
        "    for t in x:\n",
        "        if t == '': continue\n",
        "        if t[0].isupper() and len(t) > 1 and t[1:].islower(): res.append(TK_MAJ)\n",
        "        res.append(t.lower())\n",
        "    return res\n",
        "\n",
        "def add_eos_bos(x): return [BOS] + x + [EOS]\n",
        "\n",
        "default_post_rules = [deal_caps, replace_all_caps, add_eos_bos]"
      ],
      "execution_count": 0,
      "outputs": []
    },
    {
      "cell_type": "code",
      "metadata": {
        "id": "A8XgbJH-twVp",
        "colab_type": "code",
        "colab": {
          "base_uri": "https://localhost:8080/",
          "height": 35
        },
        "outputId": "c64bf6cb-f7be-4b3a-f79e-2e57d5a5bf1a"
      },
      "source": [
        "replace_all_caps(['I', 'AM', 'SHOUTING'])"
      ],
      "execution_count": 18,
      "outputs": [
        {
          "output_type": "execute_result",
          "data": {
            "text/plain": [
              "['I', 'xxup', 'am', 'xxup', 'shouting']"
            ]
          },
          "metadata": {
            "tags": []
          },
          "execution_count": 18
        }
      ]
    },
    {
      "cell_type": "code",
      "metadata": {
        "id": "uai-__DntwVt",
        "colab_type": "code",
        "colab": {
          "base_uri": "https://localhost:8080/",
          "height": 35
        },
        "outputId": "f95ea73c-0da2-4803-aef8-7ef31bbb23a9"
      },
      "source": [
        "deal_caps(['My', 'name', 'is', 'Jeremy'])"
      ],
      "execution_count": 19,
      "outputs": [
        {
          "output_type": "execute_result",
          "data": {
            "text/plain": [
              "['xxmaj', 'my', 'name', 'is', 'xxmaj', 'jeremy']"
            ]
          },
          "metadata": {
            "tags": []
          },
          "execution_count": 19
        }
      ]
    },
    {
      "cell_type": "markdown",
      "metadata": {
        "id": "3om4n65JtwVx",
        "colab_type": "text"
      },
      "source": [
        "Since tokenizing and applying those rules takes a bit of time, we'll parallelize it using `ProcessPoolExecutor` to go faster."
      ]
    },
    {
      "cell_type": "code",
      "metadata": {
        "id": "XEQpxgMYtwVy",
        "colab_type": "code",
        "colab": {}
      },
      "source": [
        "#export\n",
        "from spacy.symbols import ORTH\n",
        "from concurrent.futures import ProcessPoolExecutor\n",
        "\n",
        "def parallel(func, arr, max_workers=4):\n",
        "    if max_workers<2: results = list(progress_bar(map(func, enumerate(arr)), total=len(arr)))\n",
        "    else:\n",
        "        with ProcessPoolExecutor(max_workers=max_workers) as ex:\n",
        "            return list(progress_bar(ex.map(func, enumerate(arr)), total=len(arr)))\n",
        "    if any([o is not None for o in results]): return results"
      ],
      "execution_count": 0,
      "outputs": []
    },
    {
      "cell_type": "code",
      "metadata": {
        "id": "46EwasqNtwV2",
        "colab_type": "code",
        "colab": {}
      },
      "source": [
        "#export\n",
        "class TokenizeProcessor(Processor):\n",
        "    def __init__(self, lang=\"en\", chunksize=2000, pre_rules=None, post_rules=None, max_workers=4): \n",
        "        self.chunksize,self.max_workers = chunksize,max_workers\n",
        "        self.tokenizer = spacy.blank(lang).tokenizer\n",
        "        for w in default_spec_tok:\n",
        "            self.tokenizer.add_special_case(w, [{ORTH: w}])\n",
        "        self.pre_rules  = default_pre_rules  if pre_rules  is None else pre_rules\n",
        "        self.post_rules = default_post_rules if post_rules is None else post_rules\n",
        "\n",
        "    def proc_chunk(self, args):\n",
        "        i,chunk = args\n",
        "        chunk = [compose(t, self.pre_rules) for t in chunk]\n",
        "        docs = [[d.text for d in doc] for doc in self.tokenizer.pipe(chunk)]\n",
        "        docs = [compose(t, self.post_rules) for t in docs]\n",
        "        return docs\n",
        "\n",
        "    def __call__(self, items): \n",
        "        toks = []\n",
        "        if isinstance(items[0], Path): items = [read_file(i) for i in items]\n",
        "        chunks = [items[i: i+self.chunksize] for i in (range(0, len(items), self.chunksize))]\n",
        "        toks = parallel(self.proc_chunk, chunks, max_workers=self.max_workers)\n",
        "        return sum(toks, [])\n",
        "    \n",
        "    def proc1(self, item): return self.proc_chunk([item])[0]\n",
        "    \n",
        "    def deprocess(self, toks): return [self.deproc1(tok) for tok in toks]\n",
        "    def deproc1(self, tok):    return \" \".join(tok)"
      ],
      "execution_count": 0,
      "outputs": []
    },
    {
      "cell_type": "code",
      "metadata": {
        "id": "xYJhmyf2twV7",
        "colab_type": "code",
        "colab": {}
      },
      "source": [
        "tp = TokenizeProcessor()"
      ],
      "execution_count": 0,
      "outputs": []
    },
    {
      "cell_type": "code",
      "metadata": {
        "id": "aXUQjD_mtwV-",
        "colab_type": "code",
        "colab": {
          "base_uri": "https://localhost:8080/",
          "height": 55
        },
        "outputId": "094e429b-137f-40f2-eb96-4ca400c183d6"
      },
      "source": [
        "txt[:250]"
      ],
      "execution_count": 23,
      "outputs": [
        {
          "output_type": "execute_result",
          "data": {
            "text/plain": [
              "\"I can't wait for season 3! Is there going to be a third season? I watched both seasons back to back and loved it. This is much better than Sex in the City. This show is worth watching and leaves you wanting more. I love that it does not just focus on\""
            ]
          },
          "metadata": {
            "tags": []
          },
          "execution_count": 23
        }
      ]
    },
    {
      "cell_type": "code",
      "metadata": {
        "id": "v7Lpi9rytwWB",
        "colab_type": "code",
        "colab": {
          "base_uri": "https://localhost:8080/",
          "height": 75
        },
        "outputId": "bb16ee5f-a543-433b-8cdd-7fc3b2913888"
      },
      "source": [
        "' • '.join(tp(il[:100])[0])[:400]"
      ],
      "execution_count": 24,
      "outputs": [
        {
          "output_type": "display_data",
          "data": {
            "text/html": [
              "\n",
              "    <div>\n",
              "        <style>\n",
              "            /* Turns off some styling */\n",
              "            progress {\n",
              "                /* gets rid of default border in Firefox and Opera. */\n",
              "                border: none;\n",
              "                /* Needs to be in here for Safari polyfill so background images work as expected. */\n",
              "                background-size: auto;\n",
              "            }\n",
              "            .progress-bar-interrupted, .progress-bar-interrupted::-webkit-progress-bar {\n",
              "                background: #F44336;\n",
              "            }\n",
              "        </style>\n",
              "      <progress value='1' class='' max='1', style='width:300px; height:20px; vertical-align: middle;'></progress>\n",
              "      100.00% [1/1 00:00<00:00]\n",
              "    </div>\n",
              "    "
            ],
            "text/plain": [
              "<IPython.core.display.HTML object>"
            ]
          },
          "metadata": {
            "tags": []
          }
        },
        {
          "output_type": "execute_result",
          "data": {
            "text/plain": [
              "\"xxbos • i • ca • n't • wait • for • season • 3 • ! • xxmaj • is • there • going • to • be • a • third • season • ? • i • watched • both • seasons • back • to • back • and • loved • it • . • xxmaj • this • is • much • better • than • xxmaj • sex • in • the • xxmaj • city • . • xxmaj • this • show • is • worth • watching • and • leaves • you • wanting • more • . • i • love • that • it • does • not •\""
            ]
          },
          "metadata": {
            "tags": []
          },
          "execution_count": 24
        }
      ]
    },
    {
      "cell_type": "markdown",
      "metadata": {
        "id": "Z3YZB1GntwWF",
        "colab_type": "text"
      },
      "source": [
        "## Numericalizing"
      ]
    },
    {
      "cell_type": "markdown",
      "metadata": {
        "id": "XCTgPoP6twWH",
        "colab_type": "text"
      },
      "source": [
        "Once we have tokenized our texts, we replace each token by an individual number, this is called numericalizing. Again, we do this with a processor (not so different from the `CategoryProcessor`)."
      ]
    },
    {
      "cell_type": "markdown",
      "metadata": {
        "id": "3nIMcHRwtwWJ",
        "colab_type": "text"
      },
      "source": [
        "[Jump_to lesson 12 video](https://course.fast.ai/videos/?lesson=12&t=5491)"
      ]
    },
    {
      "cell_type": "code",
      "metadata": {
        "id": "pWUaY7KJtwWJ",
        "colab_type": "code",
        "colab": {}
      },
      "source": [
        "#export\n",
        "import collections\n",
        "\n",
        "class NumericalizeProcessor(Processor):\n",
        "    def __init__(self, vocab=None, max_vocab=60000, min_freq=2): \n",
        "        self.vocab,self.max_vocab,self.min_freq = vocab,max_vocab,min_freq\n",
        "    \n",
        "    def __call__(self, items):\n",
        "        #The vocab is defined on the first use.\n",
        "        if self.vocab is None:\n",
        "            freq = Counter(p for o in items for p in o)\n",
        "            self.vocab = [o for o,c in freq.most_common(self.max_vocab) if c >= self.min_freq]\n",
        "            for o in reversed(default_spec_tok):\n",
        "                if o in self.vocab: self.vocab.remove(o)\n",
        "                self.vocab.insert(0, o)\n",
        "        if getattr(self, 'otoi', None) is None:\n",
        "            self.otoi = collections.defaultdict(int,{v:k for k,v in enumerate(self.vocab)}) \n",
        "        return [self.proc1(o) for o in items]\n",
        "    def proc1(self, item):  return [self.otoi[o] for o in item]\n",
        "    \n",
        "    def deprocess(self, idxs):\n",
        "        assert self.vocab is not None\n",
        "        return [self.deproc1(idx) for idx in idxs]\n",
        "    def deproc1(self, idx): return [self.vocab[i] for i in idx]"
      ],
      "execution_count": 0,
      "outputs": []
    },
    {
      "cell_type": "markdown",
      "metadata": {
        "id": "mKR-w5DrtwWP",
        "colab_type": "text"
      },
      "source": [
        "When we do language modeling, we will infer the labels from the text during training, so there's no need to label. The training loop expects labels however, so we need to add dummy ones."
      ]
    },
    {
      "cell_type": "code",
      "metadata": {
        "id": "OMiCR15ntwWQ",
        "colab_type": "code",
        "colab": {}
      },
      "source": [
        "proc_tok,proc_num = TokenizeProcessor(max_workers=8),NumericalizeProcessor()"
      ],
      "execution_count": 0,
      "outputs": []
    },
    {
      "cell_type": "code",
      "metadata": {
        "id": "fpDKe4xutwWS",
        "colab_type": "code",
        "colab": {
          "base_uri": "https://localhost:8080/",
          "height": 93
        },
        "outputId": "369e4406-e9c5-4ccc-ad5f-f80e0c983e1b"
      },
      "source": [
        "%time ll = label_by_func(sd, lambda x: 0, proc_x = [proc_tok,proc_num])"
      ],
      "execution_count": 27,
      "outputs": [
        {
          "output_type": "display_data",
          "data": {
            "text/html": [
              "\n",
              "    <div>\n",
              "        <style>\n",
              "            /* Turns off some styling */\n",
              "            progress {\n",
              "                /* gets rid of default border in Firefox and Opera. */\n",
              "                border: none;\n",
              "                /* Needs to be in here for Safari polyfill so background images work as expected. */\n",
              "                background-size: auto;\n",
              "            }\n",
              "            .progress-bar-interrupted, .progress-bar-interrupted::-webkit-progress-bar {\n",
              "                background: #F44336;\n",
              "            }\n",
              "        </style>\n",
              "      <progress value='46' class='' max='46', style='width:300px; height:20px; vertical-align: middle;'></progress>\n",
              "      100.00% [46/46 02:43<00:00]\n",
              "    </div>\n",
              "    "
            ],
            "text/plain": [
              "<IPython.core.display.HTML object>"
            ]
          },
          "metadata": {
            "tags": []
          }
        },
        {
          "output_type": "display_data",
          "data": {
            "text/html": [
              "\n",
              "    <div>\n",
              "        <style>\n",
              "            /* Turns off some styling */\n",
              "            progress {\n",
              "                /* gets rid of default border in Firefox and Opera. */\n",
              "                border: none;\n",
              "                /* Needs to be in here for Safari polyfill so background images work as expected. */\n",
              "                background-size: auto;\n",
              "            }\n",
              "            .progress-bar-interrupted, .progress-bar-interrupted::-webkit-progress-bar {\n",
              "                background: #F44336;\n",
              "            }\n",
              "        </style>\n",
              "      <progress value='5' class='' max='5', style='width:300px; height:20px; vertical-align: middle;'></progress>\n",
              "      100.00% [5/5 00:18<00:00]\n",
              "    </div>\n",
              "    "
            ],
            "text/plain": [
              "<IPython.core.display.HTML object>"
            ]
          },
          "metadata": {
            "tags": []
          }
        },
        {
          "output_type": "stream",
          "text": [
            "CPU times: user 19.9 s, sys: 3.08 s, total: 23 s\n",
            "Wall time: 3min 15s\n"
          ],
          "name": "stdout"
        }
      ]
    },
    {
      "cell_type": "markdown",
      "metadata": {
        "id": "Ew5qVKlVtwWV",
        "colab_type": "text"
      },
      "source": [
        "Once the items have been processed they will become list of numbers, we can still access the underlying raw data in `x_obj` (or `y_obj` for the targets, but we don't have any here)."
      ]
    },
    {
      "cell_type": "code",
      "metadata": {
        "id": "J41TvQGktwWW",
        "colab_type": "code",
        "colab": {
          "base_uri": "https://localhost:8080/",
          "height": 55
        },
        "outputId": "1669483f-3471-4c81-f03e-3c3fdc8ba5ec"
      },
      "source": [
        "ll.train.x_obj(0)"
      ],
      "execution_count": 28,
      "outputs": [
        {
          "output_type": "execute_result",
          "data": {
            "text/plain": [
              "\"xxbos i ca n't wait for season 3 ! xxmaj is there going to be a third season ? i watched both seasons back to back and loved it . xxmaj this is much better than xxmaj sex in the xxmaj city . xxmaj this show is worth watching and leaves you wanting more . i love that it does not just focus on their careers , they have a life outside of the job that you can believe . xxmaj the dialog is better than good ... it 's great ! xxmaj the fashion is good and i really like all the characters . xxmaj the story line is better than xxmaj sex in the xxmaj city because the character are much more realistic . xxmaj there must be a season 3 in production . i hope the network is not suited up and stupid were they cancel the show because that would be a waste . xxeos\""
            ]
          },
          "metadata": {
            "tags": []
          },
          "execution_count": 28
        }
      ]
    },
    {
      "cell_type": "markdown",
      "metadata": {
        "id": "JaDllefvtwWa",
        "colab_type": "text"
      },
      "source": [
        "Since the preprocessing tajes time, we save the intermediate result using pickle. Don't use any lambda functions in your processors or they won't be able to pickle."
      ]
    },
    {
      "cell_type": "code",
      "metadata": {
        "id": "dp46P7ERtwWc",
        "colab_type": "code",
        "colab": {}
      },
      "source": [
        "pickle.dump(ll, open(path/'ld.pkl', 'wb'))"
      ],
      "execution_count": 0,
      "outputs": []
    },
    {
      "cell_type": "code",
      "metadata": {
        "id": "WHNF84eftwWe",
        "colab_type": "code",
        "colab": {}
      },
      "source": [
        "ll = pickle.load(open(path/'ld.pkl', 'rb'))"
      ],
      "execution_count": 0,
      "outputs": []
    },
    {
      "cell_type": "markdown",
      "metadata": {
        "id": "_UkTwwqktwWh",
        "colab_type": "text"
      },
      "source": [
        "## Batching"
      ]
    },
    {
      "cell_type": "markdown",
      "metadata": {
        "id": "AFH-86XUtwWi",
        "colab_type": "text"
      },
      "source": [
        "We have a bit of work to convert our `LabelList` in a `DataBunch` as we don't just want batches of IMDB reviews. We want to stream through all the texts concatenated. We also have to prepare the targets that are the newt words in the text. All of this is done with the next object called `LM_PreLoader`. At the beginning of each epoch, it'll shuffle the articles (if `shuffle=True`) and create a big stream by concatenating all of them. We divide this big stream in `bs` smaller streams. That we will read in chunks of bptt length."
      ]
    },
    {
      "cell_type": "markdown",
      "metadata": {
        "id": "tH7tf6aQtwWj",
        "colab_type": "text"
      },
      "source": [
        "[Jump_to lesson 12 video](https://course.fast.ai/videos/?lesson=12&t=5565)"
      ]
    },
    {
      "cell_type": "code",
      "metadata": {
        "id": "-B4Fj09ltwWj",
        "colab_type": "code",
        "colab": {}
      },
      "source": [
        "# Just using those for illustration purposes, they're not used otherwise.\n",
        "from IPython.display import display,HTML\n",
        "import pandas as pd"
      ],
      "execution_count": 0,
      "outputs": []
    },
    {
      "cell_type": "markdown",
      "metadata": {
        "id": "mP6xNfYptwWm",
        "colab_type": "text"
      },
      "source": [
        "Let's say our stream is:"
      ]
    },
    {
      "cell_type": "code",
      "metadata": {
        "id": "Y3YZ2n_HtwWn",
        "colab_type": "code",
        "colab": {
          "base_uri": "https://localhost:8080/",
          "height": 37
        },
        "outputId": "d30a280c-7e1e-4b2c-fd0e-e593eaf75324"
      },
      "source": [
        "stream = \"\"\"\n",
        "In this notebook, we will go back over the example of classifying movie reviews we studied in part 1 and dig deeper under the surface. \n",
        "First we will look at the processing steps necessary to convert text into numbers and how to customize it. By doing this, we'll have another example of the Processor used in the data block API.\n",
        "Then we will study how we build a language model and train it.\\n\n",
        "\"\"\"\n",
        "tokens = np.array(tp([stream])[0])"
      ],
      "execution_count": 32,
      "outputs": [
        {
          "output_type": "display_data",
          "data": {
            "text/html": [
              "\n",
              "    <div>\n",
              "        <style>\n",
              "            /* Turns off some styling */\n",
              "            progress {\n",
              "                /* gets rid of default border in Firefox and Opera. */\n",
              "                border: none;\n",
              "                /* Needs to be in here for Safari polyfill so background images work as expected. */\n",
              "                background-size: auto;\n",
              "            }\n",
              "            .progress-bar-interrupted, .progress-bar-interrupted::-webkit-progress-bar {\n",
              "                background: #F44336;\n",
              "            }\n",
              "        </style>\n",
              "      <progress value='1' class='' max='1', style='width:300px; height:20px; vertical-align: middle;'></progress>\n",
              "      100.00% [1/1 00:00<00:00]\n",
              "    </div>\n",
              "    "
            ],
            "text/plain": [
              "<IPython.core.display.HTML object>"
            ]
          },
          "metadata": {
            "tags": []
          }
        }
      ]
    },
    {
      "cell_type": "markdown",
      "metadata": {
        "id": "kXG7iIbmtwWr",
        "colab_type": "text"
      },
      "source": [
        "Then if we split it in 6 batches it would give something like this:"
      ]
    },
    {
      "cell_type": "code",
      "metadata": {
        "id": "J3TUSnlUtwWr",
        "colab_type": "code",
        "colab": {
          "base_uri": "https://localhost:8080/",
          "height": 205
        },
        "outputId": "2f3bae3c-b50d-4be4-a3c7-e06dbb9c3eb2"
      },
      "source": [
        "bs,seq_len = 6,15\n",
        "d_tokens = np.array([tokens[i*seq_len:(i+1)*seq_len] for i in range(bs)])\n",
        "df = pd.DataFrame(d_tokens)\n",
        "display(HTML(df.to_html(index=False,header=None)))"
      ],
      "execution_count": 33,
      "outputs": [
        {
          "output_type": "display_data",
          "data": {
            "text/html": [
              "<table border=\"1\" class=\"dataframe\">\n",
              "  <tbody>\n",
              "    <tr>\n",
              "      <td>xxbos</td>\n",
              "      <td>\\n</td>\n",
              "      <td>xxmaj</td>\n",
              "      <td>in</td>\n",
              "      <td>this</td>\n",
              "      <td>notebook</td>\n",
              "      <td>,</td>\n",
              "      <td>we</td>\n",
              "      <td>will</td>\n",
              "      <td>go</td>\n",
              "      <td>back</td>\n",
              "      <td>over</td>\n",
              "      <td>the</td>\n",
              "      <td>example</td>\n",
              "      <td>of</td>\n",
              "    </tr>\n",
              "    <tr>\n",
              "      <td>classifying</td>\n",
              "      <td>movie</td>\n",
              "      <td>reviews</td>\n",
              "      <td>we</td>\n",
              "      <td>studied</td>\n",
              "      <td>in</td>\n",
              "      <td>part</td>\n",
              "      <td>1</td>\n",
              "      <td>and</td>\n",
              "      <td>dig</td>\n",
              "      <td>deeper</td>\n",
              "      <td>under</td>\n",
              "      <td>the</td>\n",
              "      <td>surface</td>\n",
              "      <td>.</td>\n",
              "    </tr>\n",
              "    <tr>\n",
              "      <td>\\n</td>\n",
              "      <td>xxmaj</td>\n",
              "      <td>first</td>\n",
              "      <td>we</td>\n",
              "      <td>will</td>\n",
              "      <td>look</td>\n",
              "      <td>at</td>\n",
              "      <td>the</td>\n",
              "      <td>processing</td>\n",
              "      <td>steps</td>\n",
              "      <td>necessary</td>\n",
              "      <td>to</td>\n",
              "      <td>convert</td>\n",
              "      <td>text</td>\n",
              "      <td>into</td>\n",
              "    </tr>\n",
              "    <tr>\n",
              "      <td>numbers</td>\n",
              "      <td>and</td>\n",
              "      <td>how</td>\n",
              "      <td>to</td>\n",
              "      <td>customize</td>\n",
              "      <td>it</td>\n",
              "      <td>.</td>\n",
              "      <td>xxmaj</td>\n",
              "      <td>by</td>\n",
              "      <td>doing</td>\n",
              "      <td>this</td>\n",
              "      <td>,</td>\n",
              "      <td>we</td>\n",
              "      <td>'ll</td>\n",
              "      <td>have</td>\n",
              "    </tr>\n",
              "    <tr>\n",
              "      <td>another</td>\n",
              "      <td>example</td>\n",
              "      <td>of</td>\n",
              "      <td>the</td>\n",
              "      <td>xxmaj</td>\n",
              "      <td>processor</td>\n",
              "      <td>used</td>\n",
              "      <td>in</td>\n",
              "      <td>the</td>\n",
              "      <td>data</td>\n",
              "      <td>block</td>\n",
              "      <td>api</td>\n",
              "      <td>.</td>\n",
              "      <td>\\n</td>\n",
              "      <td>xxmaj</td>\n",
              "    </tr>\n",
              "    <tr>\n",
              "      <td>then</td>\n",
              "      <td>we</td>\n",
              "      <td>will</td>\n",
              "      <td>study</td>\n",
              "      <td>how</td>\n",
              "      <td>we</td>\n",
              "      <td>build</td>\n",
              "      <td>a</td>\n",
              "      <td>language</td>\n",
              "      <td>model</td>\n",
              "      <td>and</td>\n",
              "      <td>train</td>\n",
              "      <td>it</td>\n",
              "      <td>.</td>\n",
              "      <td>\\n\\n</td>\n",
              "    </tr>\n",
              "  </tbody>\n",
              "</table>"
            ],
            "text/plain": [
              "<IPython.core.display.HTML object>"
            ]
          },
          "metadata": {
            "tags": []
          }
        }
      ]
    },
    {
      "cell_type": "markdown",
      "metadata": {
        "id": "FbGJ3l4ptwWt",
        "colab_type": "text"
      },
      "source": [
        "Then if we have a `bptt` of 5, we would go over those three batches."
      ]
    },
    {
      "cell_type": "code",
      "metadata": {
        "id": "MofmqAy4twWt",
        "colab_type": "code",
        "colab": {
          "base_uri": "https://localhost:8080/",
          "height": 582
        },
        "outputId": "02a5e4e6-91df-4f3a-83db-86ff39d35f7d"
      },
      "source": [
        "bs,bptt = 6,5\n",
        "for k in range(3):\n",
        "    d_tokens = np.array([tokens[i*seq_len + k*bptt:i*seq_len + (k+1)*bptt] for i in range(bs)])\n",
        "    df = pd.DataFrame(d_tokens)\n",
        "    display(HTML(df.to_html(index=False,header=None)))"
      ],
      "execution_count": 34,
      "outputs": [
        {
          "output_type": "display_data",
          "data": {
            "text/html": [
              "<table border=\"1\" class=\"dataframe\">\n",
              "  <tbody>\n",
              "    <tr>\n",
              "      <td>xxbos</td>\n",
              "      <td>\\n</td>\n",
              "      <td>xxmaj</td>\n",
              "      <td>in</td>\n",
              "      <td>this</td>\n",
              "    </tr>\n",
              "    <tr>\n",
              "      <td>classifying</td>\n",
              "      <td>movie</td>\n",
              "      <td>reviews</td>\n",
              "      <td>we</td>\n",
              "      <td>studied</td>\n",
              "    </tr>\n",
              "    <tr>\n",
              "      <td>\\n</td>\n",
              "      <td>xxmaj</td>\n",
              "      <td>first</td>\n",
              "      <td>we</td>\n",
              "      <td>will</td>\n",
              "    </tr>\n",
              "    <tr>\n",
              "      <td>numbers</td>\n",
              "      <td>and</td>\n",
              "      <td>how</td>\n",
              "      <td>to</td>\n",
              "      <td>customize</td>\n",
              "    </tr>\n",
              "    <tr>\n",
              "      <td>another</td>\n",
              "      <td>example</td>\n",
              "      <td>of</td>\n",
              "      <td>the</td>\n",
              "      <td>xxmaj</td>\n",
              "    </tr>\n",
              "    <tr>\n",
              "      <td>then</td>\n",
              "      <td>we</td>\n",
              "      <td>will</td>\n",
              "      <td>study</td>\n",
              "      <td>how</td>\n",
              "    </tr>\n",
              "  </tbody>\n",
              "</table>"
            ],
            "text/plain": [
              "<IPython.core.display.HTML object>"
            ]
          },
          "metadata": {
            "tags": []
          }
        },
        {
          "output_type": "display_data",
          "data": {
            "text/html": [
              "<table border=\"1\" class=\"dataframe\">\n",
              "  <tbody>\n",
              "    <tr>\n",
              "      <td>notebook</td>\n",
              "      <td>,</td>\n",
              "      <td>we</td>\n",
              "      <td>will</td>\n",
              "      <td>go</td>\n",
              "    </tr>\n",
              "    <tr>\n",
              "      <td>in</td>\n",
              "      <td>part</td>\n",
              "      <td>1</td>\n",
              "      <td>and</td>\n",
              "      <td>dig</td>\n",
              "    </tr>\n",
              "    <tr>\n",
              "      <td>look</td>\n",
              "      <td>at</td>\n",
              "      <td>the</td>\n",
              "      <td>processing</td>\n",
              "      <td>steps</td>\n",
              "    </tr>\n",
              "    <tr>\n",
              "      <td>it</td>\n",
              "      <td>.</td>\n",
              "      <td>xxmaj</td>\n",
              "      <td>by</td>\n",
              "      <td>doing</td>\n",
              "    </tr>\n",
              "    <tr>\n",
              "      <td>processor</td>\n",
              "      <td>used</td>\n",
              "      <td>in</td>\n",
              "      <td>the</td>\n",
              "      <td>data</td>\n",
              "    </tr>\n",
              "    <tr>\n",
              "      <td>we</td>\n",
              "      <td>build</td>\n",
              "      <td>a</td>\n",
              "      <td>language</td>\n",
              "      <td>model</td>\n",
              "    </tr>\n",
              "  </tbody>\n",
              "</table>"
            ],
            "text/plain": [
              "<IPython.core.display.HTML object>"
            ]
          },
          "metadata": {
            "tags": []
          }
        },
        {
          "output_type": "display_data",
          "data": {
            "text/html": [
              "<table border=\"1\" class=\"dataframe\">\n",
              "  <tbody>\n",
              "    <tr>\n",
              "      <td>back</td>\n",
              "      <td>over</td>\n",
              "      <td>the</td>\n",
              "      <td>example</td>\n",
              "      <td>of</td>\n",
              "    </tr>\n",
              "    <tr>\n",
              "      <td>deeper</td>\n",
              "      <td>under</td>\n",
              "      <td>the</td>\n",
              "      <td>surface</td>\n",
              "      <td>.</td>\n",
              "    </tr>\n",
              "    <tr>\n",
              "      <td>necessary</td>\n",
              "      <td>to</td>\n",
              "      <td>convert</td>\n",
              "      <td>text</td>\n",
              "      <td>into</td>\n",
              "    </tr>\n",
              "    <tr>\n",
              "      <td>this</td>\n",
              "      <td>,</td>\n",
              "      <td>we</td>\n",
              "      <td>'ll</td>\n",
              "      <td>have</td>\n",
              "    </tr>\n",
              "    <tr>\n",
              "      <td>block</td>\n",
              "      <td>api</td>\n",
              "      <td>.</td>\n",
              "      <td>\\n</td>\n",
              "      <td>xxmaj</td>\n",
              "    </tr>\n",
              "    <tr>\n",
              "      <td>and</td>\n",
              "      <td>train</td>\n",
              "      <td>it</td>\n",
              "      <td>.</td>\n",
              "      <td>\\n\\n</td>\n",
              "    </tr>\n",
              "  </tbody>\n",
              "</table>"
            ],
            "text/plain": [
              "<IPython.core.display.HTML object>"
            ]
          },
          "metadata": {
            "tags": []
          }
        }
      ]
    },
    {
      "cell_type": "code",
      "metadata": {
        "id": "gunioh1HtwWw",
        "colab_type": "code",
        "colab": {}
      },
      "source": [
        "#export\n",
        "class LM_PreLoader():\n",
        "    def __init__(self, data, bs=64, bptt=70, shuffle=False):\n",
        "        self.data,self.bs,self.bptt,self.shuffle = data,bs,bptt,shuffle\n",
        "        total_len = sum([len(t) for t in data.x])\n",
        "        self.n_batch = total_len // bs\n",
        "        self.batchify()\n",
        "    \n",
        "    def __len__(self): return ((self.n_batch-1) // self.bptt) * self.bs\n",
        "    \n",
        "    def __getitem__(self, idx):\n",
        "        source = self.batched_data[idx % self.bs]\n",
        "        seq_idx = (idx // self.bs) * self.bptt\n",
        "        return source[seq_idx:seq_idx+self.bptt],source[seq_idx+1:seq_idx+self.bptt+1]\n",
        "    \n",
        "    def batchify(self):\n",
        "        texts = self.data.x\n",
        "        if self.shuffle: texts = texts[torch.randperm(len(texts))]\n",
        "        stream = torch.cat([tensor(t) for t in texts])\n",
        "        self.batched_data = stream[:self.n_batch * self.bs].view(self.bs, self.n_batch)"
      ],
      "execution_count": 0,
      "outputs": []
    },
    {
      "cell_type": "code",
      "metadata": {
        "id": "-2NnUpIotwW1",
        "colab_type": "code",
        "colab": {}
      },
      "source": [
        "dl = DataLoader(LM_PreLoader(ll.valid, shuffle=True), batch_size=64)"
      ],
      "execution_count": 0,
      "outputs": []
    },
    {
      "cell_type": "markdown",
      "metadata": {
        "id": "EdaJ-MuKtwW2",
        "colab_type": "text"
      },
      "source": [
        "Let's check it all works ok: `x1`, `y1`, `x2` and `y2` should all be of size `bs`  by `bptt`. The texts in each row of `x1` should continue in `x2`. `y1` and `y2` should have the same texts as their `x` counterpart, shifted of one position to the right."
      ]
    },
    {
      "cell_type": "code",
      "metadata": {
        "id": "QE_5vRTdtwW3",
        "colab_type": "code",
        "colab": {}
      },
      "source": [
        "iter_dl = iter(dl)\n",
        "x1,y1 = next(iter_dl)\n",
        "x2,y2 = next(iter_dl)"
      ],
      "execution_count": 0,
      "outputs": []
    },
    {
      "cell_type": "code",
      "metadata": {
        "id": "BJfVS59utwW9",
        "colab_type": "code",
        "colab": {
          "base_uri": "https://localhost:8080/",
          "height": 35
        },
        "outputId": "e6bb5d66-9c64-4463-f081-f457fea32191"
      },
      "source": [
        "x1.size(),y1.size()"
      ],
      "execution_count": 38,
      "outputs": [
        {
          "output_type": "execute_result",
          "data": {
            "text/plain": [
              "(torch.Size([64, 70]), torch.Size([64, 70]))"
            ]
          },
          "metadata": {
            "tags": []
          },
          "execution_count": 38
        }
      ]
    },
    {
      "cell_type": "code",
      "metadata": {
        "id": "y1cga0SxtwXB",
        "colab_type": "code",
        "colab": {}
      },
      "source": [
        "vocab = proc_num.vocab"
      ],
      "execution_count": 0,
      "outputs": []
    },
    {
      "cell_type": "code",
      "metadata": {
        "id": "IRHZT0FWtwXE",
        "colab_type": "code",
        "colab": {
          "base_uri": "https://localhost:8080/",
          "height": 55
        },
        "outputId": "ff23e7d2-4ab9-4278-b1d1-1bf311458f4f"
      },
      "source": [
        "\" \".join(vocab[o] for o in x1[0])"
      ],
      "execution_count": 40,
      "outputs": [
        {
          "output_type": "execute_result",
          "data": {
            "text/plain": [
              "'xxbos xxmaj one of the great things about xxmaj the xxmaj best xxmaj years of xxmaj our xxmaj lives that even though it dates itself rather firmly in the post xxmaj world xxmaj war ii era , the issues it talks about are as real today as they were on v - e or v - j day of 1945 . xxmaj the problem of how to assimilate returning war'"
            ]
          },
          "metadata": {
            "tags": []
          },
          "execution_count": 40
        }
      ]
    },
    {
      "cell_type": "code",
      "metadata": {
        "id": "0J81dddqtwXF",
        "colab_type": "code",
        "colab": {
          "base_uri": "https://localhost:8080/",
          "height": 55
        },
        "outputId": "5303084e-050f-4eea-8d6d-ed8558c94864"
      },
      "source": [
        "\" \".join(vocab[o] for o in y1[0])"
      ],
      "execution_count": 41,
      "outputs": [
        {
          "output_type": "execute_result",
          "data": {
            "text/plain": [
              "'xxmaj one of the great things about xxmaj the xxmaj best xxmaj years of xxmaj our xxmaj lives that even though it dates itself rather firmly in the post xxmaj world xxmaj war ii era , the issues it talks about are as real today as they were on v - e or v - j day of 1945 . xxmaj the problem of how to assimilate returning war veterans'"
            ]
          },
          "metadata": {
            "tags": []
          },
          "execution_count": 41
        }
      ]
    },
    {
      "cell_type": "code",
      "metadata": {
        "id": "PyrnjxoKtwXJ",
        "colab_type": "code",
        "colab": {
          "base_uri": "https://localhost:8080/",
          "height": 55
        },
        "outputId": "70bebae7-09b9-4286-aea2-ecf7945b16d9"
      },
      "source": [
        "\" \".join(vocab[o] for o in x2[0])"
      ],
      "execution_count": 42,
      "outputs": [
        {
          "output_type": "execute_result",
          "data": {
            "text/plain": [
              "\"veterans is as old as the written history of our planet . \\n\\n xxmaj and while we do n't often learn from history , we can be thankful that for once the xxmaj united xxmaj states of xxmaj america did learn from what happened with its veterans after the previous xxmaj world xxmaj war . xxmaj the gi xxmaj bill of xxmaj rights is mentioned in passing in xxmaj the\""
            ]
          },
          "metadata": {
            "tags": []
          },
          "execution_count": 42
        }
      ]
    },
    {
      "cell_type": "markdown",
      "metadata": {
        "id": "zV03lChRtwXM",
        "colab_type": "text"
      },
      "source": [
        "And let's prepare some convenience function to do this quickly."
      ]
    },
    {
      "cell_type": "code",
      "metadata": {
        "id": "clkXwiEBtwXM",
        "colab_type": "code",
        "colab": {}
      },
      "source": [
        "#export\n",
        "def get_lm_dls(train_ds, valid_ds, bs, bptt, **kwargs):\n",
        "    return (DataLoader(LM_PreLoader(train_ds, bs, bptt, shuffle=True), batch_size=bs, **kwargs),\n",
        "            DataLoader(LM_PreLoader(valid_ds, bs, bptt, shuffle=False), batch_size=2*bs, **kwargs))\n",
        "\n",
        "def lm_databunchify(sd, bs, bptt, **kwargs):\n",
        "    return DataBunch(*get_lm_dls(sd.train, sd.valid, bs, bptt, **kwargs))"
      ],
      "execution_count": 0,
      "outputs": []
    },
    {
      "cell_type": "code",
      "metadata": {
        "id": "UdI44LRYtwXO",
        "colab_type": "code",
        "colab": {}
      },
      "source": [
        "bs,bptt = 64,70\n",
        "data = lm_databunchify(ll, bs, bptt)"
      ],
      "execution_count": 0,
      "outputs": []
    },
    {
      "cell_type": "markdown",
      "metadata": {
        "id": "XJ1ojZKotwXQ",
        "colab_type": "text"
      },
      "source": [
        "## Batching for classification"
      ]
    },
    {
      "cell_type": "markdown",
      "metadata": {
        "id": "TYbSeSlUtwXR",
        "colab_type": "text"
      },
      "source": [
        "When we will want to tackle classification, gathering the data will be a bit different: first we will label our texts with the folder they come from, and then we will need to apply padding to batch them together. To avoid mixing very long texts with very short ones, we will also use `Sampler` to sort (with a bit of randomness for the training set) our samples by length.\n",
        "\n",
        "First the data block API calls shold look familiar."
      ]
    },
    {
      "cell_type": "markdown",
      "metadata": {
        "id": "lIsx1i0MtwXR",
        "colab_type": "text"
      },
      "source": [
        "[Jump_to lesson 12 video](https://course.fast.ai/videos/?lesson=12&t=5877)"
      ]
    },
    {
      "cell_type": "code",
      "metadata": {
        "id": "L-xUej2NtwXS",
        "colab_type": "code",
        "colab": {}
      },
      "source": [
        "proc_cat = CategoryProcessor()"
      ],
      "execution_count": 0,
      "outputs": []
    },
    {
      "cell_type": "code",
      "metadata": {
        "id": "XFjKM6RJtwXU",
        "colab_type": "code",
        "colab": {
          "base_uri": "https://localhost:8080/",
          "height": 57
        },
        "outputId": "6e4c0cb9-e64b-474a-b062-937f686d449f"
      },
      "source": [
        "il = TextList.from_files(path, include=['train', 'test'])\n",
        "sd = SplitData.split_by_func(il, partial(grandparent_splitter, valid_name='test'))\n",
        "ll = label_by_func(sd, parent_labeler, proc_x = [proc_tok, proc_num], proc_y=proc_cat)"
      ],
      "execution_count": 46,
      "outputs": [
        {
          "output_type": "display_data",
          "data": {
            "text/html": [
              "\n",
              "    <div>\n",
              "        <style>\n",
              "            /* Turns off some styling */\n",
              "            progress {\n",
              "                /* gets rid of default border in Firefox and Opera. */\n",
              "                border: none;\n",
              "                /* Needs to be in here for Safari polyfill so background images work as expected. */\n",
              "                background-size: auto;\n",
              "            }\n",
              "            .progress-bar-interrupted, .progress-bar-interrupted::-webkit-progress-bar {\n",
              "                background: #F44336;\n",
              "            }\n",
              "        </style>\n",
              "      <progress value='13' class='' max='13', style='width:300px; height:20px; vertical-align: middle;'></progress>\n",
              "      100.00% [13/13 00:48<00:00]\n",
              "    </div>\n",
              "    "
            ],
            "text/plain": [
              "<IPython.core.display.HTML object>"
            ]
          },
          "metadata": {
            "tags": []
          }
        },
        {
          "output_type": "display_data",
          "data": {
            "text/html": [
              "\n",
              "    <div>\n",
              "        <style>\n",
              "            /* Turns off some styling */\n",
              "            progress {\n",
              "                /* gets rid of default border in Firefox and Opera. */\n",
              "                border: none;\n",
              "                /* Needs to be in here for Safari polyfill so background images work as expected. */\n",
              "                background-size: auto;\n",
              "            }\n",
              "            .progress-bar-interrupted, .progress-bar-interrupted::-webkit-progress-bar {\n",
              "                background: #F44336;\n",
              "            }\n",
              "        </style>\n",
              "      <progress value='13' class='' max='13', style='width:300px; height:20px; vertical-align: middle;'></progress>\n",
              "      100.00% [13/13 00:44<00:00]\n",
              "    </div>\n",
              "    "
            ],
            "text/plain": [
              "<IPython.core.display.HTML object>"
            ]
          },
          "metadata": {
            "tags": []
          }
        }
      ]
    },
    {
      "cell_type": "code",
      "metadata": {
        "id": "Eev6CxWStwXc",
        "colab_type": "code",
        "colab": {}
      },
      "source": [
        "pickle.dump(ll, open(path/'ll_clas.pkl', 'wb'))"
      ],
      "execution_count": 0,
      "outputs": []
    },
    {
      "cell_type": "code",
      "metadata": {
        "id": "eApgXZY-twXd",
        "colab_type": "code",
        "colab": {}
      },
      "source": [
        "ll = pickle.load(open(path/'ll_clas.pkl', 'rb'))"
      ],
      "execution_count": 0,
      "outputs": []
    },
    {
      "cell_type": "markdown",
      "metadata": {
        "id": "AMCaeOaItwXg",
        "colab_type": "text"
      },
      "source": [
        "Let's check the labels seem consistent with the texts."
      ]
    },
    {
      "cell_type": "code",
      "metadata": {
        "id": "CeTmZMjGtwXh",
        "colab_type": "code",
        "colab": {
          "base_uri": "https://localhost:8080/",
          "height": 110
        },
        "outputId": "188f8b9d-1242-41b8-bc39-a6f18b19d5e5"
      },
      "source": [
        "[(ll.train.x_obj(i), ll.train.y_obj(i)) for i in [1,12552]]"
      ],
      "execution_count": 49,
      "outputs": [
        {
          "output_type": "execute_result",
          "data": {
            "text/plain": [
              "[(\"xxbos xxmaj wow and i thought that any xxmaj steven xxmaj segal movie was bad . xxmaj every time i thought that the movie could n't get worse it proved me wrong . xxmaj the story was good but the actors could n't carry it off . xxmaj also , they made a lot of mistakes on how proper xxunk digs are done . xxmaj for instance you do n't handle artifacts untill they are xxunk and accounted for . xxmaj the biggest crime in casting was the xxunk girl . xxmaj she is a weak actress and i felt that her acting really made the movie less realistic then it already was . xxmaj the whole concept of the knights templar being underground all these years seemed pretty stupid to me . i like the idea of how they disappeared and stuff , so that almost seemed depressing . i thought that the characters wern't explained well enough . xxmaj you did n't find out much background and that made it harder to relate to them . xxeos\",\n",
              "  'neg'),\n",
              " (\"xxbos xxmaj if you have any sort of appreciation for character and dialogue , and any sense of xxmaj american cultural history , you will find a lot of very absorbing material in this film . xxmaj it probably was originally a play , and that 's why it 's dialogue heavy , but i ca n't stress enough how these icons that we only have a shallow understand of are made into truly complex and wonderful characters . \\n\\n xxmaj this film is better than any college course for telling you how to create a character - driven story . \\n\\n xxeos\",\n",
              "  'pos')]"
            ]
          },
          "metadata": {
            "tags": []
          },
          "execution_count": 49
        }
      ]
    },
    {
      "cell_type": "markdown",
      "metadata": {
        "id": "i9hb-Q48twXn",
        "colab_type": "text"
      },
      "source": [
        "We saw samplers in notebook 03. For the validation set, we will simply sort the samples by length, and we begin with the longest ones for memory reasons (it's better to always have the biggest tensors first)."
      ]
    },
    {
      "cell_type": "code",
      "metadata": {
        "id": "ws0CvZ2UtwXn",
        "colab_type": "code",
        "colab": {}
      },
      "source": [
        "#export\n",
        "from torch.utils.data import Sampler\n",
        "\n",
        "class SortSampler(Sampler):\n",
        "    def __init__(self, data_source, key): self.data_source,self.key = data_source,key\n",
        "    def __len__(self): return len(self.data_source)\n",
        "    def __iter__(self):\n",
        "        return iter(sorted(list(range(len(self.data_source))), key=self.key, reverse=True))"
      ],
      "execution_count": 0,
      "outputs": []
    },
    {
      "cell_type": "markdown",
      "metadata": {
        "id": "BGc8eV5GtwXo",
        "colab_type": "text"
      },
      "source": [
        "For the training set, we want some kind of randomness on top of this. So first, we shuffle the texts and build megabatches of size `50 * bs`. We sort those megabatches by length before splitting them in 50 minibatches. That way we will have randomized batches of roughly the same length.\n",
        "\n",
        "Then we make sure to have the biggest batch first and shuffle the order of the other batches. We also make sure the last batch stays at the end because its size is probably lower than batch size."
      ]
    },
    {
      "cell_type": "code",
      "metadata": {
        "id": "dX__pegqtwXp",
        "colab_type": "code",
        "colab": {}
      },
      "source": [
        "#export\n",
        "class SortishSampler(Sampler):\n",
        "    def __init__(self, data_source, key, bs):\n",
        "        self.data_source,self.key,self.bs = data_source,key,bs\n",
        "\n",
        "    def __len__(self) -> int: return len(self.data_source)\n",
        "\n",
        "    def __iter__(self):\n",
        "        idxs = torch.randperm(len(self.data_source))\n",
        "        megabatches = [idxs[i:i+self.bs*50] for i in range(0, len(idxs), self.bs*50)]\n",
        "        sorted_idx = torch.cat([tensor(sorted(s, key=self.key, reverse=True)) for s in megabatches])\n",
        "        batches = [sorted_idx[i:i+self.bs] for i in range(0, len(sorted_idx), self.bs)]\n",
        "        max_idx = torch.argmax(tensor([self.key(ck[0]) for ck in batches]))  # find the chunk with the largest key,\n",
        "        batches[0],batches[max_idx] = batches[max_idx],batches[0]            # then make sure it goes first.\n",
        "        batch_idxs = torch.randperm(len(batches)-2)\n",
        "        sorted_idx = torch.cat([batches[i+1] for i in batch_idxs]) if len(batches) > 1 else LongTensor([])\n",
        "        sorted_idx = torch.cat([batches[0], sorted_idx, batches[-1]])\n",
        "        return iter(sorted_idx)"
      ],
      "execution_count": 0,
      "outputs": []
    },
    {
      "cell_type": "markdown",
      "metadata": {
        "id": "dUFOrp71twXs",
        "colab_type": "text"
      },
      "source": [
        "Padding: we had the padding token (that as an id of 1) at the end of each sequence to make them all the same size when batching them. Note that we need padding at the end to be able to use `PyTorch` convenience functions that will let us ignore that padding (see 12c)."
      ]
    },
    {
      "cell_type": "code",
      "metadata": {
        "id": "wQRpezAgtwXt",
        "colab_type": "code",
        "colab": {}
      },
      "source": [
        "#export\n",
        "def pad_collate(samples, pad_idx=1, pad_first=False):\n",
        "    max_len = max([len(s[0]) for s in samples])\n",
        "    res = torch.zeros(len(samples), max_len).long() + pad_idx\n",
        "    for i,s in enumerate(samples):\n",
        "        if pad_first: res[i, -len(s[0]):] = LongTensor(s[0])\n",
        "        else:         res[i, :len(s[0]) ] = LongTensor(s[0])\n",
        "    return res, tensor([s[1] for s in samples])"
      ],
      "execution_count": 0,
      "outputs": []
    },
    {
      "cell_type": "code",
      "metadata": {
        "id": "DLdI_5BLtwXu",
        "colab_type": "code",
        "colab": {}
      },
      "source": [
        "bs = 64\n",
        "train_sampler = SortishSampler(ll.train.x, key=lambda t: len(ll.train[int(t)][0]), bs=bs)\n",
        "train_dl = DataLoader(ll.train, batch_size=bs, sampler=train_sampler, collate_fn=pad_collate)"
      ],
      "execution_count": 0,
      "outputs": []
    },
    {
      "cell_type": "code",
      "metadata": {
        "id": "l9WdAC2XGmW-",
        "colab_type": "code",
        "colab": {}
      },
      "source": [
        ""
      ],
      "execution_count": 0,
      "outputs": []
    },
    {
      "cell_type": "code",
      "metadata": {
        "id": "5AH8qRgZtwXw",
        "colab_type": "code",
        "colab": {}
      },
      "source": [
        "iter_dl = iter(train_dl)\n",
        "x,y = next(iter_dl)"
      ],
      "execution_count": 0,
      "outputs": []
    },
    {
      "cell_type": "code",
      "metadata": {
        "id": "jjL4unaUtwXx",
        "colab_type": "code",
        "colab": {
          "base_uri": "https://localhost:8080/",
          "height": 35
        },
        "outputId": "460e6894-a1b5-46e5-9ebb-16e13d000d4a"
      },
      "source": [
        "lengths = []\n",
        "for i in range(x.size(0)): lengths.append(x.size(1) - (x[i]==1).sum().item())\n",
        "lengths[:5], lengths[-1]"
      ],
      "execution_count": 55,
      "outputs": [
        {
          "output_type": "execute_result",
          "data": {
            "text/plain": [
              "([3311, 2022, 1951, 1399, 1349], 932)"
            ]
          },
          "metadata": {
            "tags": []
          },
          "execution_count": 55
        }
      ]
    },
    {
      "cell_type": "markdown",
      "metadata": {
        "id": "fCwd9VqptwXz",
        "colab_type": "text"
      },
      "source": [
        "The last one is the minimal length. This is the first batch so it has the longest sequence, but if look at the next one that is more random, we see lengths are roughly the sames."
      ]
    },
    {
      "cell_type": "code",
      "metadata": {
        "id": "A1x7GPIVtwX0",
        "colab_type": "code",
        "colab": {
          "base_uri": "https://localhost:8080/",
          "height": 35
        },
        "outputId": "f5275283-2557-4da1-d343-391611a6e7ed"
      },
      "source": [
        "x,y = next(iter_dl)\n",
        "lengths = []\n",
        "for i in range(x.size(0)): lengths.append(x.size(1) - (x[i]==1).sum().item())\n",
        "lengths[:5], lengths[-1]"
      ],
      "execution_count": 56,
      "outputs": [
        {
          "output_type": "execute_result",
          "data": {
            "text/plain": [
              "([298, 298, 298, 298, 298], 287)"
            ]
          },
          "metadata": {
            "tags": []
          },
          "execution_count": 56
        }
      ]
    },
    {
      "cell_type": "markdown",
      "metadata": {
        "id": "1OVZ22sxtwX1",
        "colab_type": "text"
      },
      "source": [
        "We can see the padding at the end:"
      ]
    },
    {
      "cell_type": "code",
      "metadata": {
        "id": "VjMgTprvtwX2",
        "colab_type": "code",
        "colab": {
          "base_uri": "https://localhost:8080/",
          "height": 144
        },
        "outputId": "02fbd900-6755-4a83-a3fe-4ef9bf8ba47c"
      },
      "source": [
        "x"
      ],
      "execution_count": 57,
      "outputs": [
        {
          "output_type": "execute_result",
          "data": {
            "text/plain": [
              "tensor([[   2,   18,  475,  ..., 1182,  249,    3],\n",
              "        [   2,    7,  272,  ..., 1190,    9,    3],\n",
              "        [   2,    7, 9362,  ..., 7124,    9,    3],\n",
              "        ...,\n",
              "        [   2,    7, 1234,  ...,    1,    1,    1],\n",
              "        [   2,    7,   47,  ...,    1,    1,    1],\n",
              "        [   2,   21,    7,  ...,    1,    1,    1]])"
            ]
          },
          "metadata": {
            "tags": []
          },
          "execution_count": 57
        }
      ]
    },
    {
      "cell_type": "markdown",
      "metadata": {
        "id": "NE-Dt_PatwX3",
        "colab_type": "text"
      },
      "source": [
        "And we add a convenience function:"
      ]
    },
    {
      "cell_type": "code",
      "metadata": {
        "id": "gXDrP9ystwX4",
        "colab_type": "code",
        "colab": {}
      },
      "source": [
        "#export\n",
        "def get_clas_dls(train_ds, valid_ds, bs, **kwargs):\n",
        "    train_sampler = SortishSampler(train_ds.x, key=lambda t: len(train_ds.x[t]), bs=bs)\n",
        "    valid_sampler = SortSampler(valid_ds.x, key=lambda t: len(valid_ds.x[t]))\n",
        "    return (DataLoader(train_ds, batch_size=bs, sampler=train_sampler, collate_fn=pad_collate, **kwargs),\n",
        "            DataLoader(valid_ds, batch_size=bs*2, sampler=valid_sampler, collate_fn=pad_collate, **kwargs))\n",
        "\n",
        "def clas_databunchify(sd, bs, **kwargs):\n",
        "    return DataBunch(*get_clas_dls(sd.train, sd.valid, bs, **kwargs))"
      ],
      "execution_count": 0,
      "outputs": []
    },
    {
      "cell_type": "code",
      "metadata": {
        "id": "kExZdbihtwX6",
        "colab_type": "code",
        "colab": {}
      },
      "source": [
        "bs,bptt = 64,70\n",
        "data = clas_databunchify(ll, bs)"
      ],
      "execution_count": 0,
      "outputs": []
    },
    {
      "cell_type": "markdown",
      "metadata": {
        "id": "TZa94m8ltwX9",
        "colab_type": "text"
      },
      "source": [
        "## Export"
      ]
    },
    {
      "cell_type": "code",
      "metadata": {
        "id": "kA7nL7iltwX-",
        "colab_type": "code",
        "colab": {}
      },
      "source": [
        "!python notebook2script.py 12_text.ipynb"
      ],
      "execution_count": 0,
      "outputs": []
    }
  ]
}