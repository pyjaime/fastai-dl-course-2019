{
 "cells": [
  {
   "cell_type": "code",
   "execution_count": 1,
   "metadata": {
    "colab": {
     "base_uri": "https://localhost:8080/",
     "height": 35
    },
    "colab_type": "code",
    "id": "TCt_QQf7BubH",
    "outputId": "1d8567c9-53a5-471f-c00b-54ff5f01f3dd"
   },
   "outputs": [
    {
     "name": "stdout",
     "output_type": "stream",
     "text": [
      "Mounted at /content/drive\n"
     ]
    }
   ],
   "source": [
    "# Make Google Drive accessible\n",
    "from google.colab import drive\n",
    "drive.mount('/content/drive', force_remount=True)"
   ]
  },
  {
   "cell_type": "code",
   "execution_count": 0,
   "metadata": {
    "colab": {},
    "colab_type": "code",
    "id": "K6-r_iVrDDEu"
   },
   "outputs": [],
   "source": [
    "# paths\n",
    "root_dir = \"/content/drive/My Drive/Colab Notebooks/\"\n",
    "base_dir = root_dir + 'pyjaime/fastai-dl-course-2019/nbs/dl2/'"
   ]
  },
  {
   "cell_type": "code",
   "execution_count": 3,
   "metadata": {
    "colab": {
     "base_uri": "https://localhost:8080/",
     "height": 35
    },
    "colab_type": "code",
    "id": "ByPgWSLfDNjj",
    "outputId": "cbac9a76-abbf-4e5b-97f6-fabc15673098"
   },
   "outputs": [
    {
     "name": "stdout",
     "output_type": "stream",
     "text": [
      "directory already exists.\n"
     ]
    }
   ],
   "source": [
    "# create a directory for our developments\n",
    "import os\n",
    "if not os.path.exists('/content/drive/My Drive/Colab Notebooks/pyjaime/'):\n",
    "    os.makedirs('/content/drive/My Drive/Colab Notebooks/pyjaime/')\n",
    "else:\n",
    "    print('directory already exists.')"
   ]
  },
  {
   "cell_type": "code",
   "execution_count": 4,
   "metadata": {
    "colab": {
     "base_uri": "https://localhost:8080/",
     "height": 35
    },
    "colab_type": "code",
    "id": "NFwwNZvwDnGr",
    "outputId": "2db4a478-9244-4567-901f-11f61d39f445"
   },
   "outputs": [
    {
     "name": "stdout",
     "output_type": "stream",
     "text": [
      "destination path 'fastai-dl-course-2019' already exists and is not an empty directory.\n"
     ]
    }
   ],
   "source": [
    "# clone the course repo, so we can access all the scripts and notebooks\n",
    "os.chdir('/content/drive/My Drive/Colab Notebooks/pyjaime/')\n",
    "if not os.path.exists('/content/drive/My Drive/Colab Notebooks/pyjaime/fastai-dl-course-2019'):\n",
    "    !git clone https://github.com/pyjaime/fastai-dl-course-2019\n",
    "else:\n",
    "    print('destination path \\'fastai-dl-course-2019\\' already exists and is not an empty directory.')"
   ]
  },
  {
   "cell_type": "code",
   "execution_count": 0,
   "metadata": {
    "colab": {},
    "colab_type": "code",
    "id": "_Zf_SPgqEJos"
   },
   "outputs": [],
   "source": [
    "# navigate to the folder with the \"Deep Learning From the Foundations\" course notebooks\n",
    "os.chdir('/content/drive/My Drive/Colab Notebooks/pyjaime/fastai-dl-course-2019/nbs/dl2/')"
   ]
  },
  {
   "cell_type": "code",
   "execution_count": 6,
   "metadata": {
    "colab": {
     "base_uri": "https://localhost:8080/",
     "height": 399
    },
    "colab_type": "code",
    "id": "mxDn-pm_QAvB",
    "outputId": "15a80b80-0966-45ff-97c3-386833101e1e"
   },
   "outputs": [
    {
     "name": "stdout",
     "output_type": "stream",
     "text": [
      "00_exports.ipynb\t\t 11_train_imagenette.ipynb\n",
      "01_matmul.ipynb\t\t\t 12a_awd_lstm.ipynb\n",
      "02a_why_sqrt5.ipynb\t\t 12b_lm_pretrain.ipynb\n",
      "02b_initializing.ipynb\t\t 12c_ulmfit.ipynb\n",
      "02_fully_connected.ipynb\t 12_text.ipynb\n",
      "03_minibatch_training.ipynb\t audio.ipynb\n",
      "04_callbacks.ipynb\t\t bleu_metric.ipynb\n",
      "05a_foundations.ipynb\t\t cyclegan.ipynb\n",
      "05_anneal.ipynb\t\t\t cyclegan_ws.ipynb\n",
      "05b_early_stopping.ipynb\t devise.ipynb\n",
      "06_cuda_cnn_hooks_init.ipynb\t exp\n",
      "07a_lsuv.ipynb\t\t\t images\n",
      "07_batchnorm.ipynb\t\t notebook2script.py\n",
      "08_data_block.ipynb\t\t pascal.ipynb\n",
      "09b_learner.ipynb\t\t run_notebook.py\n",
      "09c_add_progress_bar.ipynb\t timing.ipynb\n",
      "09_optimizers.ipynb\t\t train_imagenette.py\n",
      "10_augmentation.ipynb\t\t transforms-dali.ipynb\n",
      "10b_mixup_label_smoothing.ipynb  translation.ipynb\n",
      "10c_fp16.ipynb\t\t\t translation_transformer.ipynb\n",
      "11a_transfer_learning.ipynb\n"
     ]
    }
   ],
   "source": [
    "!ls"
   ]
  }
 ],
 "metadata": {
  "accelerator": "GPU",
  "colab": {
   "collapsed_sections": [],
   "name": "000_fastaidl2_colab_init.ipynb",
   "provenance": []
  },
  "kernelspec": {
   "display_name": "Python 3",
   "language": "python",
   "name": "python3"
  },
  "language_info": {
   "codemirror_mode": {
    "name": "ipython",
    "version": 3
   },
   "file_extension": ".py",
   "mimetype": "text/x-python",
   "name": "python",
   "nbconvert_exporter": "python",
   "pygments_lexer": "ipython3",
   "version": "3.7.5"
  },
  "toc": {
   "base_numbering": 1,
   "nav_menu": {},
   "number_sections": true,
   "sideBar": true,
   "skip_h1_title": false,
   "title_cell": "Table of Contents",
   "title_sidebar": "Contents",
   "toc_cell": false,
   "toc_position": {},
   "toc_section_display": true,
   "toc_window_display": false
  }
 },
 "nbformat": 4,
 "nbformat_minor": 1
}
