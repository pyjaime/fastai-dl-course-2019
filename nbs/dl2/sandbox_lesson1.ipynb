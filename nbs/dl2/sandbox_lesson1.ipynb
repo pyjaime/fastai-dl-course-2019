{
 "cells": [
  {
   "cell_type": "code",
   "execution_count": 1,
   "metadata": {},
   "outputs": [],
   "source": [
    "import torch\n",
    "from torch import tensor, nn"
   ]
  },
  {
   "cell_type": "code",
   "execution_count": 2,
   "metadata": {},
   "outputs": [],
   "source": [
    "a = tensor([10., 6, -4])"
   ]
  },
  {
   "cell_type": "code",
   "execution_count": 3,
   "metadata": {},
   "outputs": [
    {
     "data": {
      "text/plain": [
       "tensor([[10.],\n",
       "        [ 6.],\n",
       "        [-4.]])"
      ]
     },
     "execution_count": 3,
     "metadata": {},
     "output_type": "execute_result"
    }
   ],
   "source": [
    "a.unsqueeze(-1)"
   ]
  },
  {
   "cell_type": "code",
   "execution_count": 4,
   "metadata": {},
   "outputs": [
    {
     "data": {
      "text/plain": [
       "tensor([[10.],\n",
       "        [ 6.],\n",
       "        [-4.]])"
      ]
     },
     "execution_count": 4,
     "metadata": {},
     "output_type": "execute_result"
    }
   ],
   "source": [
    "a[:,None]"
   ]
  },
  {
   "cell_type": "markdown",
   "metadata": {},
   "source": [
    "## Matrix multiplication"
   ]
  },
  {
   "cell_type": "markdown",
   "metadata": {},
   "source": [
    "### Loop"
   ]
  },
  {
   "cell_type": "code",
   "execution_count": 5,
   "metadata": {},
   "outputs": [],
   "source": [
    "def matmul(a,b):\n",
    "    a_r, a_c = a.shape\n",
    "    b_r, b_c = b.shape\n",
    "    #print(a_r,a_c,b_r,b_c)\n",
    "    result = torch.zeros(a_r, b_c)\n",
    "    for i in range(a_r):\n",
    "        for j in range(b_c):\n",
    "            result[i, j] = (a[i]*b[:,j]).sum()\n",
    "    return result"
   ]
  },
  {
   "cell_type": "code",
   "execution_count": 6,
   "metadata": {},
   "outputs": [
    {
     "name": "stdout",
     "output_type": "stream",
     "text": [
      "torch.Size([784, 10]) torch.Size([5, 784])\n"
     ]
    }
   ],
   "source": [
    "w = torch.randn(28*28, 10)\n",
    "x = (torch.randn(5, 28*28).uniform_() > 0.5).float()\n",
    "\n",
    "print(w.shape, x.shape)"
   ]
  },
  {
   "cell_type": "code",
   "execution_count": 7,
   "metadata": {},
   "outputs": [
    {
     "data": {
      "text/plain": [
       "tensor([[ 0.6585,  0.8505, -1.5729,  ..., -0.7811,  0.3777, -0.6824],\n",
       "        [-0.8713,  1.5161, -1.9336,  ..., -0.0216, -0.3616,  0.4600],\n",
       "        [ 0.4457,  0.4802, -0.4382,  ...,  0.4809,  1.7293,  2.1749],\n",
       "        ...,\n",
       "        [ 1.1256, -0.8450,  0.6215,  ..., -1.6206, -1.7708,  1.6707],\n",
       "        [ 0.1464, -0.2688,  0.7906,  ...,  1.2148,  0.8712,  0.8713],\n",
       "        [ 1.4520, -0.6913,  0.5994,  ..., -0.3363, -2.0610, -1.8160]])"
      ]
     },
     "execution_count": 7,
     "metadata": {},
     "output_type": "execute_result"
    }
   ],
   "source": [
    "w"
   ]
  },
  {
   "cell_type": "code",
   "execution_count": 8,
   "metadata": {},
   "outputs": [
    {
     "data": {
      "text/plain": [
       "tensor([[ -5.1816,   1.2283,  17.8439, -26.6228,   2.4741,  21.5022, -41.9003,\n",
       "         -11.8169,  11.4589, -15.1908],\n",
       "        [ 14.3575,  18.1787,  15.3604,  -8.3450,   8.4390,  11.8457, -56.5944,\n",
       "          -8.7871,  15.5160, -10.0521],\n",
       "        [  3.9617,  10.9410,  -2.4306,  10.7817,  -8.4258,  14.4627, -42.7108,\n",
       "         -22.4357,  -9.8514, -18.4852],\n",
       "        [ 22.0265,  17.4174, -13.8640,  39.8922,  -6.3677, -19.9488, -33.2374,\n",
       "         -35.0137, -16.8065,  13.5555],\n",
       "        [ -3.2925,   2.7557,  29.7941,  16.3102,   7.7942,  27.2021, -19.6526,\n",
       "         -10.0621, -17.5123,  11.8520]])"
      ]
     },
     "execution_count": 8,
     "metadata": {},
     "output_type": "execute_result"
    }
   ],
   "source": [
    "result = matmul(x, w)\n",
    "result"
   ]
  },
  {
   "cell_type": "code",
   "execution_count": 9,
   "metadata": {},
   "outputs": [
    {
     "data": {
      "text/plain": [
       "torch.Size([5, 10])"
      ]
     },
     "execution_count": 9,
     "metadata": {},
     "output_type": "execute_result"
    }
   ],
   "source": [
    "result.shape"
   ]
  },
  {
   "cell_type": "markdown",
   "metadata": {},
   "source": [
    "### Broadcasting"
   ]
  },
  {
   "cell_type": "code",
   "execution_count": 10,
   "metadata": {},
   "outputs": [
    {
     "data": {
      "text/plain": [
       "torch.Size([784])"
      ]
     },
     "execution_count": 10,
     "metadata": {},
     "output_type": "execute_result"
    }
   ],
   "source": [
    "x[0].shape"
   ]
  },
  {
   "cell_type": "code",
   "execution_count": 11,
   "metadata": {},
   "outputs": [
    {
     "data": {
      "text/plain": [
       "torch.Size([784, 1])"
      ]
     },
     "execution_count": 11,
     "metadata": {},
     "output_type": "execute_result"
    }
   ],
   "source": [
    "x[0][:, None].shape"
   ]
  },
  {
   "cell_type": "code",
   "execution_count": 12,
   "metadata": {},
   "outputs": [
    {
     "data": {
      "text/plain": [
       "torch.Size([784, 1])"
      ]
     },
     "execution_count": 12,
     "metadata": {},
     "output_type": "execute_result"
    }
   ],
   "source": [
    "x[0].unsqueeze(1).shape"
   ]
  },
  {
   "cell_type": "code",
   "execution_count": 13,
   "metadata": {},
   "outputs": [
    {
     "data": {
      "text/plain": [
       "torch.Size([784, 1])"
      ]
     },
     "execution_count": 13,
     "metadata": {},
     "output_type": "execute_result"
    }
   ],
   "source": [
    "x[0].unsqueeze(-1).shape"
   ]
  },
  {
   "cell_type": "code",
   "execution_count": 14,
   "metadata": {},
   "outputs": [],
   "source": [
    "def matmul(a,b):\n",
    "    a_r, a_c = a.shape\n",
    "    b_r, b_c = b.shape\n",
    "    result = torch.zeros(a_r, b_c)\n",
    "    for i in range(a_r):\n",
    "        result[i] = (a[i][:, None]*b).sum(dim=0)\n",
    "    return result"
   ]
  },
  {
   "cell_type": "code",
   "execution_count": 15,
   "metadata": {},
   "outputs": [
    {
     "data": {
      "text/plain": [
       "tensor([[ -5.1816,   1.2283,  17.8439, -26.6228,   2.4741,  21.5022, -41.9003,\n",
       "         -11.8169,  11.4589, -15.1908],\n",
       "        [ 14.3575,  18.1787,  15.3604,  -8.3450,   8.4390,  11.8458, -56.5944,\n",
       "          -8.7871,  15.5160, -10.0521],\n",
       "        [  3.9617,  10.9410,  -2.4306,  10.7817,  -8.4258,  14.4627, -42.7108,\n",
       "         -22.4357,  -9.8514, -18.4852],\n",
       "        [ 22.0265,  17.4174, -13.8640,  39.8922,  -6.3677, -19.9488, -33.2374,\n",
       "         -35.0137, -16.8065,  13.5555],\n",
       "        [ -3.2925,   2.7557,  29.7942,  16.3102,   7.7942,  27.2020, -19.6526,\n",
       "         -10.0621, -17.5123,  11.8520]])"
      ]
     },
     "execution_count": 15,
     "metadata": {},
     "output_type": "execute_result"
    }
   ],
   "source": [
    "result = matmul(x, w)\n",
    "result"
   ]
  },
  {
   "cell_type": "markdown",
   "metadata": {},
   "source": [
    "### Einsum"
   ]
  },
  {
   "cell_type": "code",
   "execution_count": 16,
   "metadata": {},
   "outputs": [],
   "source": [
    "def matmul(a,b):\n",
    "    return torch.einsum('ik,kj->ij', a, b)"
   ]
  },
  {
   "cell_type": "code",
   "execution_count": 17,
   "metadata": {},
   "outputs": [
    {
     "data": {
      "text/plain": [
       "tensor([[ -5.1816,   1.2283,  17.8439, -26.6228,   2.4741,  21.5022, -41.9003,\n",
       "         -11.8169,  11.4589, -15.1908],\n",
       "        [ 14.3575,  18.1787,  15.3604,  -8.3450,   8.4390,  11.8458, -56.5944,\n",
       "          -8.7871,  15.5160, -10.0521],\n",
       "        [  3.9617,  10.9410,  -2.4306,  10.7817,  -8.4258,  14.4627, -42.7108,\n",
       "         -22.4357,  -9.8514, -18.4852],\n",
       "        [ 22.0265,  17.4174, -13.8640,  39.8922,  -6.3677, -19.9488, -33.2374,\n",
       "         -35.0137, -16.8065,  13.5555],\n",
       "        [ -3.2925,   2.7557,  29.7942,  16.3102,   7.7942,  27.2021, -19.6526,\n",
       "         -10.0621, -17.5123,  11.8520]])"
      ]
     },
     "execution_count": 17,
     "metadata": {},
     "output_type": "execute_result"
    }
   ],
   "source": [
    "result = matmul(x, w)\n",
    "result"
   ]
  },
  {
   "cell_type": "markdown",
   "metadata": {},
   "source": [
    "### Pytorch matmul / @"
   ]
  },
  {
   "cell_type": "code",
   "execution_count": 18,
   "metadata": {},
   "outputs": [],
   "source": [
    "def matmul(a,b):\n",
    "    return a@b # == a.matmul(b)"
   ]
  },
  {
   "cell_type": "code",
   "execution_count": 19,
   "metadata": {},
   "outputs": [
    {
     "name": "stdout",
     "output_type": "stream",
     "text": [
      "Wall time: 0 ns\n"
     ]
    },
    {
     "data": {
      "text/plain": [
       "tensor([[ -5.1816,   1.2283,  17.8439, -26.6228,   2.4741,  21.5022, -41.9003,\n",
       "         -11.8169,  11.4589, -15.1908],\n",
       "        [ 14.3575,  18.1787,  15.3604,  -8.3450,   8.4390,  11.8458, -56.5944,\n",
       "          -8.7871,  15.5160, -10.0521],\n",
       "        [  3.9617,  10.9410,  -2.4306,  10.7817,  -8.4258,  14.4627, -42.7108,\n",
       "         -22.4357,  -9.8514, -18.4852],\n",
       "        [ 22.0265,  17.4174, -13.8640,  39.8922,  -6.3677, -19.9488, -33.2374,\n",
       "         -35.0137, -16.8065,  13.5555],\n",
       "        [ -3.2925,   2.7557,  29.7942,  16.3102,   7.7942,  27.2021, -19.6526,\n",
       "         -10.0621, -17.5123,  11.8520]])"
      ]
     },
     "execution_count": 19,
     "metadata": {},
     "output_type": "execute_result"
    }
   ],
   "source": [
    "%time result = matmul(x, w)\n",
    "result"
   ]
  },
  {
   "cell_type": "markdown",
   "metadata": {},
   "source": [
    "## Basic Neural Network"
   ]
  },
  {
   "cell_type": "code",
   "execution_count": 20,
   "metadata": {},
   "outputs": [
    {
     "data": {
      "text/plain": [
       "(tensor(0.4936), tensor(0.5000))"
      ]
     },
     "execution_count": 20,
     "metadata": {},
     "output_type": "execute_result"
    }
   ],
   "source": [
    "x.mean(), x.std()"
   ]
  },
  {
   "cell_type": "code",
   "execution_count": 21,
   "metadata": {},
   "outputs": [],
   "source": [
    "def lin(x, w, b):\n",
    "    return x@w + b\n",
    "\n",
    "def relu(x):\n",
    "    return x.clamp(min=0)"
   ]
  },
  {
   "cell_type": "markdown",
   "metadata": {},
   "source": [
    "Rectification example:"
   ]
  },
  {
   "cell_type": "code",
   "execution_count": 22,
   "metadata": {},
   "outputs": [
    {
     "data": {
      "text/plain": [
       "tensor([[ 0.5000,  0.5000,  0.5000,  ...,  0.5000, -0.5000, -0.5000],\n",
       "        [-0.5000, -0.5000, -0.5000,  ..., -0.5000, -0.5000,  0.5000],\n",
       "        [-0.5000, -0.5000, -0.5000,  ..., -0.5000,  0.5000, -0.5000],\n",
       "        [ 0.5000,  0.5000, -0.5000,  ...,  0.5000,  0.5000,  0.5000],\n",
       "        [ 0.5000, -0.5000, -0.5000,  ...,  0.5000,  0.5000,  0.5000]])"
      ]
     },
     "execution_count": 22,
     "metadata": {},
     "output_type": "execute_result"
    }
   ],
   "source": [
    "x-0.5"
   ]
  },
  {
   "cell_type": "code",
   "execution_count": 23,
   "metadata": {},
   "outputs": [
    {
     "data": {
      "text/plain": [
       "tensor([[0.5000, 0.5000, 0.5000,  ..., 0.5000, 0.0000, 0.0000],\n",
       "        [0.0000, 0.0000, 0.0000,  ..., 0.0000, 0.0000, 0.5000],\n",
       "        [0.0000, 0.0000, 0.0000,  ..., 0.0000, 0.5000, 0.0000],\n",
       "        [0.5000, 0.5000, 0.0000,  ..., 0.5000, 0.5000, 0.5000],\n",
       "        [0.5000, 0.0000, 0.0000,  ..., 0.5000, 0.5000, 0.5000]])"
      ]
     },
     "execution_count": 23,
     "metadata": {},
     "output_type": "execute_result"
    }
   ],
   "source": [
    "(x-0.5).clamp(min=0) # clamp = \"restringir\""
   ]
  },
  {
   "cell_type": "code",
   "execution_count": 24,
   "metadata": {},
   "outputs": [],
   "source": [
    "def mse(output, targ): \n",
    "    return (output.squeeze(-1) - targ).pow(2).mean()"
   ]
  },
  {
   "cell_type": "code",
   "execution_count": 25,
   "metadata": {},
   "outputs": [],
   "source": [
    "class Model(nn.Module):\n",
    "    def __init__(self, n_in, nh, n_out):\n",
    "        super().__init__()\n",
    "        self.layers = [nn.Linear(n_in,nh), nn.ReLU(), nn.Linear(nh,n_out)]\n",
    "        self.loss = mse\n",
    "        \n",
    "    def __call__(self, x, targ):\n",
    "        for l in self.layers: x = l(x)\n",
    "        return self.loss(x.squeeze(), targ)"
   ]
  },
  {
   "cell_type": "code",
   "execution_count": 26,
   "metadata": {},
   "outputs": [],
   "source": [
    "model = Model(28*28, 50, 1)"
   ]
  },
  {
   "cell_type": "code",
   "execution_count": 27,
   "metadata": {},
   "outputs": [],
   "source": [
    "# forward pass\n",
    "# loss = model(x_train, y_train)\n",
    "\n",
    "# backward pass\n",
    "# loss.backward()"
   ]
  }
 ],
 "metadata": {
  "kernelspec": {
   "display_name": "Python 3",
   "language": "python",
   "name": "python3"
  },
  "language_info": {
   "codemirror_mode": {
    "name": "ipython",
    "version": 3
   },
   "file_extension": ".py",
   "mimetype": "text/x-python",
   "name": "python",
   "nbconvert_exporter": "python",
   "pygments_lexer": "ipython3",
   "version": "3.7.5"
  },
  "toc": {
   "base_numbering": 1,
   "nav_menu": {},
   "number_sections": true,
   "sideBar": true,
   "skip_h1_title": false,
   "title_cell": "Table of Contents",
   "title_sidebar": "Contents",
   "toc_cell": false,
   "toc_position": {},
   "toc_section_display": true,
   "toc_window_display": false
  }
 },
 "nbformat": 4,
 "nbformat_minor": 2
}
