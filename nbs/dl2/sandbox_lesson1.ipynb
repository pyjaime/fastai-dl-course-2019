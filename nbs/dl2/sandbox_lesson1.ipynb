{
 "cells": [
  {
   "cell_type": "code",
   "execution_count": 54,
   "metadata": {},
   "outputs": [],
   "source": [
    "import torch\n",
    "from torch import tensor, nn"
   ]
  },
  {
   "cell_type": "code",
   "execution_count": 2,
   "metadata": {},
   "outputs": [],
   "source": [
    "a = tensor([10., 6, -4])"
   ]
  },
  {
   "cell_type": "code",
   "execution_count": 3,
   "metadata": {},
   "outputs": [
    {
     "data": {
      "text/plain": [
       "tensor([[10.],\n",
       "        [ 6.],\n",
       "        [-4.]])"
      ]
     },
     "execution_count": 3,
     "metadata": {},
     "output_type": "execute_result"
    }
   ],
   "source": [
    "a.unsqueeze(-1)"
   ]
  },
  {
   "cell_type": "code",
   "execution_count": 4,
   "metadata": {},
   "outputs": [
    {
     "data": {
      "text/plain": [
       "tensor([[10.],\n",
       "        [ 6.],\n",
       "        [-4.]])"
      ]
     },
     "execution_count": 4,
     "metadata": {},
     "output_type": "execute_result"
    }
   ],
   "source": [
    "a[:,None]"
   ]
  },
  {
   "cell_type": "markdown",
   "metadata": {},
   "source": [
    "## Matrix multiplication"
   ]
  },
  {
   "cell_type": "markdown",
   "metadata": {},
   "source": [
    "### Loop"
   ]
  },
  {
   "cell_type": "code",
   "execution_count": 27,
   "metadata": {},
   "outputs": [],
   "source": [
    "def matmul(a,b):\n",
    "    a_r, a_c = a.shape\n",
    "    b_r, b_c = b.shape\n",
    "    #print(a_r,a_c,b_r,b_c)\n",
    "    result = torch.zeros(a_r, b_c)\n",
    "    for i in range(a_r):\n",
    "        for j in range(b_c):\n",
    "            result[i, j] = (a[i]*b[:,j]).sum()\n",
    "    return result"
   ]
  },
  {
   "cell_type": "code",
   "execution_count": 28,
   "metadata": {},
   "outputs": [
    {
     "name": "stdout",
     "output_type": "stream",
     "text": [
      "torch.Size([784, 10]) torch.Size([5, 784])\n"
     ]
    }
   ],
   "source": [
    "w = torch.randn(28*28, 10)\n",
    "x = (torch.randn(5, 28*28).uniform_() > 0.5).float()\n",
    "\n",
    "print(w.shape, x.shape)"
   ]
  },
  {
   "cell_type": "code",
   "execution_count": 29,
   "metadata": {},
   "outputs": [
    {
     "data": {
      "text/plain": [
       "tensor([[-1.3211,  0.7073, -2.6653,  ..., -1.5623,  0.5117,  1.2107],\n",
       "        [-0.1769,  1.7697, -0.0745,  ...,  0.4187, -0.7671,  0.6182],\n",
       "        [ 1.5185,  0.2683, -1.1117,  ...,  0.8351,  0.3929, -0.6093],\n",
       "        ...,\n",
       "        [ 0.7381,  0.1837,  1.2768,  ..., -1.1529,  0.0362, -0.0818],\n",
       "        [-0.8085,  1.2301,  0.3700,  ..., -1.5857, -0.1115, -0.2392],\n",
       "        [ 1.6216, -1.0680, -1.0443,  ..., -1.3424, -1.5653, -0.6021]])"
      ]
     },
     "execution_count": 29,
     "metadata": {},
     "output_type": "execute_result"
    }
   ],
   "source": [
    "w"
   ]
  },
  {
   "cell_type": "code",
   "execution_count": 30,
   "metadata": {},
   "outputs": [
    {
     "data": {
      "text/plain": [
       "tensor([[ 15.5561,  18.9614,  12.9767,  11.7611,   1.8205, -12.1763,   3.5304,\n",
       "          -9.8229, -11.4052,   6.0269],\n",
       "        [ 16.3255,   7.0026,   9.8062, -19.0253,  14.2650,  18.3936, -14.6898,\n",
       "          -7.6931,  -9.8005,   7.0486],\n",
       "        [  6.5847,  -5.7398,   6.0632,  15.3926,  22.3657,  37.6803, -17.8128,\n",
       "           3.4587, -19.9257,  12.4680],\n",
       "        [  9.5143,   7.9566, -15.8792, -19.5290,  -9.2390,  -3.3436, -25.2611,\n",
       "           2.7339,   1.9323, -12.1647],\n",
       "        [ 33.2948,   8.8638,  13.2803, -10.2013,   9.9745,  31.0709, -35.2126,\n",
       "          -5.4623, -11.6704,  -1.2602]])"
      ]
     },
     "execution_count": 30,
     "metadata": {},
     "output_type": "execute_result"
    }
   ],
   "source": [
    "result = matmul(x, w)\n",
    "result"
   ]
  },
  {
   "cell_type": "code",
   "execution_count": 31,
   "metadata": {},
   "outputs": [
    {
     "data": {
      "text/plain": [
       "torch.Size([5, 10])"
      ]
     },
     "execution_count": 31,
     "metadata": {},
     "output_type": "execute_result"
    }
   ],
   "source": [
    "result.shape"
   ]
  },
  {
   "cell_type": "markdown",
   "metadata": {},
   "source": [
    "### Broadcasting"
   ]
  },
  {
   "cell_type": "code",
   "execution_count": 32,
   "metadata": {},
   "outputs": [
    {
     "data": {
      "text/plain": [
       "torch.Size([784])"
      ]
     },
     "execution_count": 32,
     "metadata": {},
     "output_type": "execute_result"
    }
   ],
   "source": [
    "x[0].shape"
   ]
  },
  {
   "cell_type": "code",
   "execution_count": 33,
   "metadata": {},
   "outputs": [
    {
     "data": {
      "text/plain": [
       "torch.Size([784, 1])"
      ]
     },
     "execution_count": 33,
     "metadata": {},
     "output_type": "execute_result"
    }
   ],
   "source": [
    "x[0][:, None].shape"
   ]
  },
  {
   "cell_type": "code",
   "execution_count": 34,
   "metadata": {},
   "outputs": [
    {
     "data": {
      "text/plain": [
       "torch.Size([784, 1])"
      ]
     },
     "execution_count": 34,
     "metadata": {},
     "output_type": "execute_result"
    }
   ],
   "source": [
    "x[0].unsqueeze(1).shape"
   ]
  },
  {
   "cell_type": "code",
   "execution_count": 35,
   "metadata": {},
   "outputs": [
    {
     "data": {
      "text/plain": [
       "torch.Size([784, 1])"
      ]
     },
     "execution_count": 35,
     "metadata": {},
     "output_type": "execute_result"
    }
   ],
   "source": [
    "x[0].unsqueeze(-1).shape"
   ]
  },
  {
   "cell_type": "code",
   "execution_count": 36,
   "metadata": {},
   "outputs": [],
   "source": [
    "def matmul(a,b):\n",
    "    a_r, a_c = a.shape\n",
    "    b_r, b_c = b.shape\n",
    "    result = torch.zeros(a_r, b_c)\n",
    "    for i in range(a_r):\n",
    "        result[i] = (a[i][:, None]*b).sum(dim=0)\n",
    "    return result"
   ]
  },
  {
   "cell_type": "code",
   "execution_count": 37,
   "metadata": {},
   "outputs": [
    {
     "data": {
      "text/plain": [
       "tensor([[ 15.5561,  18.9614,  12.9767,  11.7611,   1.8205, -12.1763,   3.5304,\n",
       "          -9.8229, -11.4052,   6.0269],\n",
       "        [ 16.3255,   7.0027,   9.8062, -19.0253,  14.2650,  18.3936, -14.6898,\n",
       "          -7.6931,  -9.8005,   7.0486],\n",
       "        [  6.5847,  -5.7398,   6.0632,  15.3926,  22.3657,  37.6803, -17.8128,\n",
       "           3.4588, -19.9257,  12.4680],\n",
       "        [  9.5143,   7.9566, -15.8792, -19.5290,  -9.2390,  -3.3436, -25.2611,\n",
       "           2.7339,   1.9323, -12.1647],\n",
       "        [ 33.2948,   8.8638,  13.2803, -10.2013,   9.9745,  31.0709, -35.2126,\n",
       "          -5.4623, -11.6704,  -1.2602]])"
      ]
     },
     "execution_count": 37,
     "metadata": {},
     "output_type": "execute_result"
    }
   ],
   "source": [
    "result = matmul(x, w)\n",
    "result"
   ]
  },
  {
   "cell_type": "markdown",
   "metadata": {},
   "source": [
    "### Einsum"
   ]
  },
  {
   "cell_type": "code",
   "execution_count": 38,
   "metadata": {},
   "outputs": [],
   "source": [
    "def matmul(a,b):\n",
    "    return torch.einsum('ik,kj->ij', a, b)"
   ]
  },
  {
   "cell_type": "code",
   "execution_count": 39,
   "metadata": {},
   "outputs": [
    {
     "data": {
      "text/plain": [
       "tensor([[ 15.5561,  18.9614,  12.9767,  11.7611,   1.8205, -12.1763,   3.5304,\n",
       "          -9.8229, -11.4052,   6.0269],\n",
       "        [ 16.3255,   7.0026,   9.8062, -19.0253,  14.2650,  18.3936, -14.6898,\n",
       "          -7.6931,  -9.8005,   7.0486],\n",
       "        [  6.5847,  -5.7398,   6.0632,  15.3926,  22.3657,  37.6803, -17.8128,\n",
       "           3.4587, -19.9257,  12.4680],\n",
       "        [  9.5143,   7.9566, -15.8792, -19.5290,  -9.2390,  -3.3436, -25.2611,\n",
       "           2.7339,   1.9323, -12.1647],\n",
       "        [ 33.2948,   8.8638,  13.2803, -10.2013,   9.9745,  31.0709, -35.2126,\n",
       "          -5.4623, -11.6704,  -1.2602]])"
      ]
     },
     "execution_count": 39,
     "metadata": {},
     "output_type": "execute_result"
    }
   ],
   "source": [
    "result = matmul(x, w)\n",
    "result"
   ]
  },
  {
   "cell_type": "markdown",
   "metadata": {},
   "source": [
    "### Pytorch matmul / @"
   ]
  },
  {
   "cell_type": "code",
   "execution_count": 40,
   "metadata": {},
   "outputs": [],
   "source": [
    "def matmul(a,b):\n",
    "    return a@b # == a.matmul(b)"
   ]
  },
  {
   "cell_type": "code",
   "execution_count": 41,
   "metadata": {},
   "outputs": [
    {
     "name": "stdout",
     "output_type": "stream",
     "text": [
      "Wall time: 0 ns\n"
     ]
    },
    {
     "data": {
      "text/plain": [
       "tensor([[ 15.5561,  18.9614,  12.9767,  11.7611,   1.8205, -12.1763,   3.5304,\n",
       "          -9.8229, -11.4052,   6.0269],\n",
       "        [ 16.3255,   7.0026,   9.8062, -19.0253,  14.2650,  18.3936, -14.6898,\n",
       "          -7.6931,  -9.8005,   7.0486],\n",
       "        [  6.5847,  -5.7398,   6.0632,  15.3926,  22.3657,  37.6803, -17.8128,\n",
       "           3.4587, -19.9257,  12.4680],\n",
       "        [  9.5143,   7.9566, -15.8792, -19.5290,  -9.2390,  -3.3436, -25.2611,\n",
       "           2.7339,   1.9323, -12.1647],\n",
       "        [ 33.2948,   8.8638,  13.2803, -10.2013,   9.9745,  31.0709, -35.2126,\n",
       "          -5.4623, -11.6704,  -1.2602]])"
      ]
     },
     "execution_count": 41,
     "metadata": {},
     "output_type": "execute_result"
    }
   ],
   "source": [
    "%time result = matmul(x, w)\n",
    "result"
   ]
  },
  {
   "cell_type": "markdown",
   "metadata": {},
   "source": [
    "## Basic Neural Network"
   ]
  },
  {
   "cell_type": "code",
   "execution_count": 42,
   "metadata": {},
   "outputs": [
    {
     "data": {
      "text/plain": [
       "(tensor(0.5059), tensor(0.5000))"
      ]
     },
     "execution_count": 42,
     "metadata": {},
     "output_type": "execute_result"
    }
   ],
   "source": [
    "x.mean(), x.std()"
   ]
  },
  {
   "cell_type": "code",
   "execution_count": 43,
   "metadata": {},
   "outputs": [],
   "source": [
    "def lin(x, w, b):\n",
    "    return x@w + b\n",
    "\n",
    "def relu(x):\n",
    "    return x.clamp(min=0)"
   ]
  },
  {
   "cell_type": "markdown",
   "metadata": {},
   "source": [
    "Rectification example:"
   ]
  },
  {
   "cell_type": "code",
   "execution_count": 49,
   "metadata": {},
   "outputs": [
    {
     "data": {
      "text/plain": [
       "tensor([[-0.5000,  0.5000,  0.5000,  ...,  0.5000,  0.5000, -0.5000],\n",
       "        [ 0.5000, -0.5000, -0.5000,  ..., -0.5000, -0.5000,  0.5000],\n",
       "        [-0.5000,  0.5000,  0.5000,  ..., -0.5000,  0.5000, -0.5000],\n",
       "        [ 0.5000, -0.5000,  0.5000,  ...,  0.5000,  0.5000,  0.5000],\n",
       "        [ 0.5000,  0.5000,  0.5000,  ...,  0.5000,  0.5000,  0.5000]])"
      ]
     },
     "execution_count": 49,
     "metadata": {},
     "output_type": "execute_result"
    }
   ],
   "source": [
    "x-0.5"
   ]
  },
  {
   "cell_type": "code",
   "execution_count": 50,
   "metadata": {},
   "outputs": [
    {
     "data": {
      "text/plain": [
       "tensor([[0.0000, 0.5000, 0.5000,  ..., 0.5000, 0.5000, 0.0000],\n",
       "        [0.5000, 0.0000, 0.0000,  ..., 0.0000, 0.0000, 0.5000],\n",
       "        [0.0000, 0.5000, 0.5000,  ..., 0.0000, 0.5000, 0.0000],\n",
       "        [0.5000, 0.0000, 0.5000,  ..., 0.5000, 0.5000, 0.5000],\n",
       "        [0.5000, 0.5000, 0.5000,  ..., 0.5000, 0.5000, 0.5000]])"
      ]
     },
     "execution_count": 50,
     "metadata": {},
     "output_type": "execute_result"
    }
   ],
   "source": [
    "(x-0.5).clamp(min=0) # clamp = \"restringir\""
   ]
  },
  {
   "cell_type": "code",
   "execution_count": 58,
   "metadata": {},
   "outputs": [],
   "source": [
    "def mse(output, targ): \n",
    "    return (output.squeeze(-1) - targ).pow(2).mean()"
   ]
  },
  {
   "cell_type": "code",
   "execution_count": 59,
   "metadata": {},
   "outputs": [],
   "source": [
    "class Model(nn.Module):\n",
    "    def __init__(self, n_in, nh, n_out):\n",
    "        super().__init__()\n",
    "        self.layers = [nn.Linear(n_in,nh), nn.ReLU(), nn.Linear(nh,n_out)]\n",
    "        self.loss = mse\n",
    "        \n",
    "    def __call__(self, x, targ):\n",
    "        for l in self.layers: x = l(x)\n",
    "        return self.loss(x.squeeze(), targ)"
   ]
  },
  {
   "cell_type": "code",
   "execution_count": 60,
   "metadata": {},
   "outputs": [],
   "source": [
    "model = Model(28*28, 50, 1)"
   ]
  },
  {
   "cell_type": "code",
   "execution_count": 62,
   "metadata": {},
   "outputs": [],
   "source": [
    "# forward pass\n",
    "# loss = model(x_train, y_train)\n",
    "\n",
    "# backward pass\n",
    "# loss.backward()"
   ]
  }
 ],
 "metadata": {
  "kernelspec": {
   "display_name": "Python 3",
   "language": "python",
   "name": "python3"
  },
  "language_info": {
   "codemirror_mode": {
    "name": "ipython",
    "version": 3
   },
   "file_extension": ".py",
   "mimetype": "text/x-python",
   "name": "python",
   "nbconvert_exporter": "python",
   "pygments_lexer": "ipython3",
   "version": "3.7.5"
  },
  "toc": {
   "base_numbering": 1,
   "nav_menu": {},
   "number_sections": true,
   "sideBar": true,
   "skip_h1_title": false,
   "title_cell": "Table of Contents",
   "title_sidebar": "Contents",
   "toc_cell": false,
   "toc_position": {},
   "toc_section_display": true,
   "toc_window_display": false
  }
 },
 "nbformat": 4,
 "nbformat_minor": 2
}
