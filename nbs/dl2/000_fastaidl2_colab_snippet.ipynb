{
  "nbformat": 4,
  "nbformat_minor": 0,
  "metadata": {
    "colab": {
      "name": "000_fastaidl2_colab_snippet.ipynb",
      "provenance": [],
      "collapsed_sections": []
    },
    "kernelspec": {
      "name": "python3",
      "display_name": "Python 3"
    }
  },
  "cells": [
    {
      "cell_type": "markdown",
      "metadata": {
        "id": "D2_athihLv8h",
        "colab_type": "text"
      },
      "source": [
        "# Add FASTAI for DL2 course"
      ]
    },
    {
      "cell_type": "code",
      "metadata": {
        "id": "ElctCqD-Jcld",
        "colab_type": "code",
        "colab": {}
      },
      "source": [
        "%load_ext autoreload\n",
        "%autoreload 2\n",
        "\n",
        "!curl -s https://course.fast.ai/setup/colab | bash\n",
        "!pip install fire\n",
        "!pip install nbconvert\n",
        "\n",
        "from google.colab import drive\n",
        "from pathlib import Path\n",
        "import os\n",
        "import sys\n",
        "\n",
        "drive.mount(\"/content/drive\", force_remount=True)\n",
        "base = Path('/content/drive/My Drive/Colab Notebooks/pyjaime/fastai-dl-course-2019/nbs/dl2/')\n",
        "sys.path.append(str(base))\n",
        "os.chdir(base)"
      ],
      "execution_count": 0,
      "outputs": []
    }
  ]
}