{
  "nbformat": 4,
  "nbformat_minor": 0,
  "metadata": {
    "colab": {
      "name": "lesson4-tabular.ipynb",
      "version": "0.3.2",
      "provenance": []
    },
    "kernelspec": {
      "display_name": "Python 3",
      "language": "python",
      "name": "python3"
    }
  },
  "cells": [
    {
      "cell_type": "markdown",
      "metadata": {
        "id": "Pcr82CYSiap7",
        "colab_type": "text"
      },
      "source": [
        "# Tabular models"
      ]
    },
    {
      "cell_type": "code",
      "metadata": {
        "id": "jRBycLbGiaqB",
        "colab_type": "code",
        "colab": {}
      },
      "source": [
        "from fastai.tabular import *"
      ],
      "execution_count": 0,
      "outputs": []
    },
    {
      "cell_type": "markdown",
      "metadata": {
        "id": "rIYsBZHpiaqM",
        "colab_type": "text"
      },
      "source": [
        "Tabular data should be first loaded into a Pandas `DataFrame`. You can use it with a lot of different sources!"
      ]
    },
    {
      "cell_type": "code",
      "metadata": {
        "id": "0mj86RPOiaqN",
        "colab_type": "code",
        "colab": {}
      },
      "source": [
        "path = untar_data(URLs.ADULT_SAMPLE)\n",
        "df = pd.read_csv(path/'adult.csv')"
      ],
      "execution_count": 0,
      "outputs": []
    },
    {
      "cell_type": "markdown",
      "metadata": {
        "id": "t23EEO2jj1c8",
        "colab_type": "text"
      },
      "source": [
        "We have to distinguish between categorical and numerical variables here (for categorical variables, we’re going to be using something called embeddings; and for continuous variables, they could just be sent into the neural net just like pixels in a neural net can). \n",
        "\n",
        "We also have to write a list of the \"transformations\" to be applied in pre-processing. In this case we'll apply `FillMissing` (fill NA values with the median of the column), `Categorify` (translate categorical columns into pandas categories) and `Normalize` (transform numerical data to have a mean of 0 and std dev of 1). Normalization is always important in NNs, because it helps them a lot.\n",
        "\n",
        "Same processing we apply to training set must be applied to validation and test sets too. The fastai library manages it all by itself."
      ]
    },
    {
      "cell_type": "code",
      "metadata": {
        "id": "ej2Jl0QniaqV",
        "colab_type": "code",
        "colab": {}
      },
      "source": [
        "dep_var = 'salary'\n",
        "cat_names = ['workclass', 'education', 'marital-status', 'occupation', 'relationship', 'race']\n",
        "cont_names = ['age', 'fnlwgt', 'education-num']\n",
        "procs = [FillMissing, Categorify, Normalize]"
      ],
      "execution_count": 0,
      "outputs": []
    },
    {
      "cell_type": "markdown",
      "metadata": {
        "id": "xoCIxVAH7-5y",
        "colab_type": "text"
      },
      "source": [
        "Note: `path` waits the path that you’re going to use to save models and intermediate steps."
      ]
    },
    {
      "cell_type": "code",
      "metadata": {
        "id": "WuvBGXP7iaqc",
        "colab_type": "code",
        "colab": {}
      },
      "source": [
        "test = TabularList.from_df(df.iloc[800:1000].copy(), path=path, cat_names=cat_names, cont_names=cont_names)"
      ],
      "execution_count": 0,
      "outputs": []
    },
    {
      "cell_type": "code",
      "metadata": {
        "id": "LWp4KHEpiaqk",
        "colab_type": "code",
        "colab": {}
      },
      "source": [
        "data = (TabularList.from_df(df, path=path, cat_names=cat_names, cont_names=cont_names, procs=procs)\n",
        "                           # We use next line to select validation subset range (useful when we have some structure in the data)\n",
        "                           .split_by_idx(list(range(800,1000)))\n",
        "                           .label_from_df(cols=dep_var)\n",
        "                           .add_test(test)\n",
        "                           .databunch())"
      ],
      "execution_count": 0,
      "outputs": []
    },
    {
      "cell_type": "code",
      "metadata": {
        "id": "9vu32ziPiaqp",
        "colab_type": "code",
        "colab": {},
        "outputId": "92c25653-4d7d-46a9-f07a-317b185f7d11"
      },
      "source": [
        "data.show_batch(rows=10)"
      ],
      "execution_count": 0,
      "outputs": [
        {
          "output_type": "display_data",
          "data": {
            "text/html": [
              "<table>  <col width='10%'>  <col width='10%'>  <col width='10%'>  <col width='10%'>  <col width='10%'>  <col width='10%'>  <col width='10%'>  <col width='10%'>  <col width='10%'>  <col width='10%'>  <col width='10%'>  <tr>\n",
              "    <th>workclass</th>\n",
              "    <th>education</th>\n",
              "    <th>marital-status</th>\n",
              "    <th>occupation</th>\n",
              "    <th>relationship</th>\n",
              "    <th>race</th>\n",
              "    <th>education-num_na</th>\n",
              "    <th>age</th>\n",
              "    <th>fnlwgt</th>\n",
              "    <th>education-num</th>\n",
              "    <th>target</th>\n",
              "  </tr>\n",
              "  <tr>\n",
              "    <th> Private</th>\n",
              "    <th> HS-grad</th>\n",
              "    <th> Never-married</th>\n",
              "    <th> Sales</th>\n",
              "    <th> Not-in-family</th>\n",
              "    <th> White</th>\n",
              "    <th>False</th>\n",
              "    <th>-1.2158</th>\n",
              "    <th>1.1004</th>\n",
              "    <th>-0.4224</th>\n",
              "    <th><50k</th>\n",
              "  </tr>\n",
              "  <tr>\n",
              "    <th> ?</th>\n",
              "    <th> HS-grad</th>\n",
              "    <th> Widowed</th>\n",
              "    <th> ?</th>\n",
              "    <th> Not-in-family</th>\n",
              "    <th> White</th>\n",
              "    <th>False</th>\n",
              "    <th>1.8627</th>\n",
              "    <th>0.0976</th>\n",
              "    <th>-0.4224</th>\n",
              "    <th><50k</th>\n",
              "  </tr>\n",
              "  <tr>\n",
              "    <th> Self-emp-not-inc</th>\n",
              "    <th> HS-grad</th>\n",
              "    <th> Never-married</th>\n",
              "    <th> Craft-repair</th>\n",
              "    <th> Own-child</th>\n",
              "    <th> Black</th>\n",
              "    <th>False</th>\n",
              "    <th>0.0303</th>\n",
              "    <th>0.2092</th>\n",
              "    <th>-0.4224</th>\n",
              "    <th><50k</th>\n",
              "  </tr>\n",
              "  <tr>\n",
              "    <th> Private</th>\n",
              "    <th> HS-grad</th>\n",
              "    <th> Married-civ-spouse</th>\n",
              "    <th> Protective-serv</th>\n",
              "    <th> Husband</th>\n",
              "    <th> White</th>\n",
              "    <th>False</th>\n",
              "    <th>1.5695</th>\n",
              "    <th>-0.5938</th>\n",
              "    <th>-0.4224</th>\n",
              "    <th><50k</th>\n",
              "  </tr>\n",
              "  <tr>\n",
              "    <th> Private</th>\n",
              "    <th> HS-grad</th>\n",
              "    <th> Married-civ-spouse</th>\n",
              "    <th> Handlers-cleaners</th>\n",
              "    <th> Husband</th>\n",
              "    <th> White</th>\n",
              "    <th>False</th>\n",
              "    <th>-0.9959</th>\n",
              "    <th>-0.0318</th>\n",
              "    <th>-0.4224</th>\n",
              "    <th><50k</th>\n",
              "  </tr>\n",
              "  <tr>\n",
              "    <th> Private</th>\n",
              "    <th> 10th</th>\n",
              "    <th> Married-civ-spouse</th>\n",
              "    <th> Farming-fishing</th>\n",
              "    <th> Wife</th>\n",
              "    <th> White</th>\n",
              "    <th>False</th>\n",
              "    <th>-0.7027</th>\n",
              "    <th>0.6071</th>\n",
              "    <th>-1.5958</th>\n",
              "    <th><50k</th>\n",
              "  </tr>\n",
              "  <tr>\n",
              "    <th> Private</th>\n",
              "    <th> HS-grad</th>\n",
              "    <th> Married-civ-spouse</th>\n",
              "    <th> Machine-op-inspct</th>\n",
              "    <th> Husband</th>\n",
              "    <th> White</th>\n",
              "    <th>False</th>\n",
              "    <th>0.1036</th>\n",
              "    <th>-0.0968</th>\n",
              "    <th>-0.4224</th>\n",
              "    <th><50k</th>\n",
              "  </tr>\n",
              "  <tr>\n",
              "    <th> Private</th>\n",
              "    <th> Some-college</th>\n",
              "    <th> Married-civ-spouse</th>\n",
              "    <th> Exec-managerial</th>\n",
              "    <th> Own-child</th>\n",
              "    <th> White</th>\n",
              "    <th>False</th>\n",
              "    <th>-0.7760</th>\n",
              "    <th>-0.6653</th>\n",
              "    <th>-0.0312</th>\n",
              "    <th>>=50k</th>\n",
              "  </tr>\n",
              "  <tr>\n",
              "    <th> State-gov</th>\n",
              "    <th> Some-college</th>\n",
              "    <th> Never-married</th>\n",
              "    <th> Tech-support</th>\n",
              "    <th> Own-child</th>\n",
              "    <th> White</th>\n",
              "    <th>False</th>\n",
              "    <th>-0.8493</th>\n",
              "    <th>-1.4959</th>\n",
              "    <th>-0.0312</th>\n",
              "    <th><50k</th>\n",
              "  </tr>\n",
              "  <tr>\n",
              "    <th> Private</th>\n",
              "    <th> 11th</th>\n",
              "    <th> Never-married</th>\n",
              "    <th> Machine-op-inspct</th>\n",
              "    <th> Not-in-family</th>\n",
              "    <th> White</th>\n",
              "    <th>False</th>\n",
              "    <th>-1.0692</th>\n",
              "    <th>-0.9516</th>\n",
              "    <th>-1.2046</th>\n",
              "    <th><50k</th>\n",
              "  </tr>\n",
              "</table>\n"
            ],
            "text/plain": [
              "<IPython.core.display.HTML object>"
            ]
          },
          "metadata": {
            "tags": []
          }
        }
      ]
    },
    {
      "cell_type": "code",
      "metadata": {
        "id": "4XSpvteHiaqz",
        "colab_type": "code",
        "colab": {}
      },
      "source": [
        "learn = tabular_learner(data, layers=[200,100], metrics=accuracy)"
      ],
      "execution_count": 0,
      "outputs": []
    },
    {
      "cell_type": "code",
      "metadata": {
        "id": "tvL2AKrdiaq3",
        "colab_type": "code",
        "colab": {},
        "outputId": "9c94b30d-b394-485b-894d-6b7edb7dd9ca"
      },
      "source": [
        "learn.fit(1, 1e-2)"
      ],
      "execution_count": 0,
      "outputs": [
        {
          "output_type": "display_data",
          "data": {
            "text/html": [
              "Total time: 00:03 <p><table style='width:300px; margin-bottom:10px'>\n",
              "  <tr>\n",
              "    <th>epoch</th>\n",
              "    <th>train_loss</th>\n",
              "    <th>valid_loss</th>\n",
              "    <th>accuracy</th>\n",
              "  </tr>\n",
              "  <tr>\n",
              "    <th>1</th>\n",
              "    <th>0.354604</th>\n",
              "    <th>0.378520</th>\n",
              "    <th>0.820000</th>\n",
              "  </tr>\n",
              "</table>\n"
            ],
            "text/plain": [
              "<IPython.core.display.HTML object>"
            ]
          },
          "metadata": {
            "tags": []
          }
        }
      ]
    },
    {
      "cell_type": "markdown",
      "metadata": {
        "id": "-_qF_IiNiarA",
        "colab_type": "text"
      },
      "source": [
        "## Inference"
      ]
    },
    {
      "cell_type": "code",
      "metadata": {
        "id": "wNeAaIM0iarF",
        "colab_type": "code",
        "colab": {}
      },
      "source": [
        "row = df.iloc[0]"
      ],
      "execution_count": 0,
      "outputs": []
    },
    {
      "cell_type": "code",
      "metadata": {
        "id": "JYGakI0riarN",
        "colab_type": "code",
        "colab": {},
        "outputId": "03bf403e-43da-4a5b-d133-3842c96dac36"
      },
      "source": [
        "learn.predict(row)"
      ],
      "execution_count": 0,
      "outputs": [
        {
          "output_type": "execute_result",
          "data": {
            "text/plain": [
              "(Category >=50k, tensor(1), tensor([0.4402, 0.5598]))"
            ]
          },
          "metadata": {
            "tags": []
          },
          "execution_count": 0
        }
      ]
    }
  ]
}